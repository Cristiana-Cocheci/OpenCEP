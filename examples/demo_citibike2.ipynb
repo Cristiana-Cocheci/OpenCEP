{
 "cells": [
  {
   "cell_type": "code",
   "execution_count": 8,
   "id": "7f1ae110",
   "metadata": {},
   "outputs": [],
   "source": [
    "# Ensure project root (OpenCEP) is on sys.path for imports like `from base.Pattern import Pattern`\n",
    "import sys, os, pathlib\n",
    "\n",
    "nb_dir = (\n",
    "    pathlib.Path(__file__).parent if \"__file__\" in globals() else pathlib.Path.cwd()\n",
    ")\n",
    "project_root = str((nb_dir / \"..\").resolve())\n",
    "if project_root not in sys.path:\n",
    "    sys.path.insert(0, project_root)"
   ]
  },
  {
   "cell_type": "code",
   "execution_count": 9,
   "id": "5e22b2b5",
   "metadata": {},
   "outputs": [],
   "source": [
    "from datetime import timedelta\n",
    "from CEP import CEP\n",
    "from base.Pattern import Pattern\n",
    "from base.PatternStructure import (\n",
    "    SeqOperator,\n",
    "    PrimitiveEventStructure,\n",
    "    KleeneClosureOperator,\n",
    ")\n",
    "from condition.CompositeCondition import AndCondition\n",
    "from condition.Condition import Variable, SimpleCondition\n",
    "from condition.KCCondition import KCIndexCondition\n",
    "from stream.FileStream import FileOutputStream\n",
    "from stream.DataFrameStream import CitiBikeDataFrameInputStream\n",
    "from plugin.citibike.CitiBike2 import (\n",
    "    CitiBikeTripEventTypeClassifier,\n",
    "    CitiBikeDataFormatter,\n",
    ")\n",
    "import test"
   ]
  },
  {
   "cell_type": "code",
   "execution_count": 10,
   "id": "b2c9c53e",
   "metadata": {},
   "outputs": [
    {
     "data": {
      "text/plain": [
       "'citibikeConsecutiveRidesPattern = Pattern(\\n    SeqOperator(\\n        PrimitiveEventStructure(\"CitiBikeTrip\", \"a\"),\\n        PrimitiveEventStructure(\"CitiBikeTrip\", \"b\"),\\n    ),\\n    AndCondition(\\n        SimpleCondition(\\n            Variable(\"a\", lambda x: (x[\"startstationid\"], x[\"endstationid\"])),\\n            Variable(\"b\", lambda x: (x[\"startstationid\"], x[\"endstationid\"])),\\n            relation_op=lambda a, b: a[1] == b[0],\\n        )\\n    ),\\n    timedelta(minutes=5),\\n)'"
      ]
     },
     "execution_count": 10,
     "metadata": {},
     "output_type": "execute_result"
    }
   ],
   "source": [
    "\"\"\"citibikeConsecutiveRidesPattern = Pattern(\n",
    "    SeqOperator(\n",
    "        PrimitiveEventStructure(\"CitiBikeTrip\", \"a\"),\n",
    "        PrimitiveEventStructure(\"CitiBikeTrip\", \"b\"),\n",
    "    ),\n",
    "    AndCondition(\n",
    "        SimpleCondition(\n",
    "            Variable(\"a\", lambda x: (x[\"startstationid\"], x[\"endstationid\"])),\n",
    "            Variable(\"b\", lambda x: (x[\"startstationid\"], x[\"endstationid\"])),\n",
    "            relation_op=lambda a, b: a[1] == b[0],\n",
    "        )\n",
    "    ),\n",
    "    timedelta(minutes=5),\n",
    ")\"\"\""
   ]
  },
  {
   "cell_type": "code",
   "execution_count": 11,
   "id": "6b40b2b6",
   "metadata": {},
   "outputs": [],
   "source": [
    "citibikeHotPathsPattern = Pattern(\n",
    "    SeqOperator(\n",
    "        KleeneClosureOperator(PrimitiveEventStructure(\"CitiBikeTrip\", \"a\")),\n",
    "        PrimitiveEventStructure(\"CitiBikeTrip\", \"b\"),\n",
    "    ),\n",
    "    AndCondition(\n",
    "        KCIndexCondition(\n",
    "            names={\"a\"},\n",
    "            getattr_func=lambda x: x[\"bikeid\"],\n",
    "            relation_op=lambda a1, a2: a1 == a2,\n",
    "            offset=-1,\n",
    "        ),\n",
    "        KCIndexCondition(\n",
    "            names={\"a\"},\n",
    "            getattr_func=lambda x: (\n",
    "                int(float(x[\"startstationid\"])),\n",
    "                int(float(x[\"endstationid\"])),\n",
    "            ),\n",
    "            relation_op=lambda a1, a2: a1[0] == a2[1],\n",
    "            offset=-1,\n",
    "        ),\n",
    "        SimpleCondition(\n",
    "            Variable(\"a\", lambda x: x[-1][\"bikeid\"]),\n",
    "            Variable(\"b\", lambda x: x[\"bikeid\"]),\n",
    "            relation_op=lambda a, b: a == b,\n",
    "        ),\n",
    "        SimpleCondition(\n",
    "            Variable(\"a\", lambda x: int(float(x[-1][\"endstationid\"]))),\n",
    "            Variable(\"b\", lambda x: int(float(x[\"startstationid\"]))),\n",
    "            relation_op=lambda a, b: a == b,\n",
    "        ),\n",
    "        SimpleCondition(\n",
    "            Variable(\"b\", lambda x: int(float(x[\"endstationid\"]))),\n",
    "            relation_op=lambda end_id: str(end_id) in {\"484.0\", 484.0},\n",
    "        ),\n",
    "    ),\n",
    "    timedelta(minutes=1),\n",
    ")"
   ]
  },
  {
   "cell_type": "code",
   "execution_count": 12,
   "id": "dafd6c43",
   "metadata": {},
   "outputs": [
    {
     "name": "stdout",
     "output_type": "stream",
     "text": [
      "   tripduration               starttime                stoptime  \\\n",
      "0           320 2019-01-01 00:01:47.401 2019-01-01 00:07:07.581   \n",
      "1           320 2019-01-01 00:01:47.401 2019-01-01 00:07:07.581   \n",
      "2           316 2019-01-01 00:04:43.736 2019-01-01 00:10:00.608   \n",
      "3           316 2019-01-01 00:04:43.736 2019-01-01 00:10:00.608   \n",
      "4           591 2019-01-01 00:06:03.997 2019-01-01 00:15:55.438   \n",
      "\n",
      "   startstationid  endstationid  bikeid  \n",
      "0          3160.0         123.0   15839  \n",
      "1           123.0         519.0   15839  \n",
      "2           519.0         484.0   32723  \n",
      "3          5119.0         484.0   32723  \n",
      "4          3171.0         484.0   27451  \n"
     ]
    }
   ],
   "source": [
    "def create_sample_preprocessor():\n",
    "    return CitiBikeDataFrameInputStream.create_citibike_preprocessor(\n",
    "        bike_ids_filter={5206, 5215, 5220}  # Only include these bike IDs\n",
    "    )\n",
    "\n",
    "\n",
    "events = CitiBikeDataFrameInputStream(\n",
    "    \"../test/EventFiles/201901-citibike-tripdata-1-small.csv\",\n",
    "    timestamp_column=\"starttime\"\n",
    "    # preprocessor=create_sample_preprocessor()  \n",
    ")\n",
    "print(events.dataframe[0:5])  # Print first 5 rows of the dataframe"
   ]
  },
  {
   "cell_type": "code",
   "execution_count": 13,
   "id": "d1569094",
   "metadata": {},
   "outputs": [
    {
     "name": "stdout",
     "output_type": "stream",
     "text": [
      "Creating evaluation manager...\n",
      " - Parallel execution: None\n",
      " - Storage: None\n",
      " - Using ParallelExecutionModes.SEQUENTIAL execution mode\n",
      "!!! Using default evaluation mechanism parameters...\n",
      "!!! Creating tree-based evaluation mechanism...\n",
      "Tree calling create_storage_unit with storage_params: TreeStorageParameters(sort_storage=False, attributes_priorities={}, clean_up_interval=10, prioritize_sorting_by_timestamp=True, enable_load_shedding=False, load_shedding_threshold=1000, load_shedding_drop_rate=0.1, load_shedding_strategy=random)\n",
      "InternalNode creating storage: sort=False, sorting_key=None\n",
      "UnsortedPatternMatchStorage created with storage_params: TreeStorageParameters(sort_storage=False, attributes_priorities={}, clean_up_interval=10, prioritize_sorting_by_timestamp=True, enable_load_shedding=False, load_shedding_threshold=1000, load_shedding_drop_rate=0.1, load_shedding_strategy=random)\n",
      "InternalNode creating storage: sort=False, sorting_key=None\n",
      "UnsortedPatternMatchStorage created with storage_params: TreeStorageParameters(sort_storage=False, attributes_priorities={}, clean_up_interval=10, prioritize_sorting_by_timestamp=True, enable_load_shedding=False, load_shedding_threshold=1000, load_shedding_drop_rate=0.1, load_shedding_strategy=random)\n",
      "LeafNode.create_storage_unit called with storage_params: TreeStorageParameters(sort_storage=False, attributes_priorities={}, clean_up_interval=10, prioritize_sorting_by_timestamp=True, enable_load_shedding=False, load_shedding_threshold=1000, load_shedding_drop_rate=0.1, load_shedding_strategy=random)\n",
      "LeafNode creating SortedPatternMatchStorage with storage_params: TreeStorageParameters(sort_storage=False, attributes_priorities={}, clean_up_interval=10, prioritize_sorting_by_timestamp=True, enable_load_shedding=False, load_shedding_threshold=1000, load_shedding_drop_rate=0.1, load_shedding_strategy=random)\n",
      "SortedPatternMatchStorage created with storage_params: TreeStorageParameters(sort_storage=False, attributes_priorities={}, clean_up_interval=10, prioritize_sorting_by_timestamp=True, enable_load_shedding=False, load_shedding_threshold=1000, load_shedding_drop_rate=0.1, load_shedding_strategy=random)\n",
      "LeafNode.create_storage_unit called with storage_params: TreeStorageParameters(sort_storage=False, attributes_priorities={}, clean_up_interval=10, prioritize_sorting_by_timestamp=True, enable_load_shedding=False, load_shedding_threshold=1000, load_shedding_drop_rate=0.1, load_shedding_strategy=random)\n",
      "LeafNode creating SortedPatternMatchStorage with storage_params: TreeStorageParameters(sort_storage=False, attributes_priorities={}, clean_up_interval=10, prioritize_sorting_by_timestamp=True, enable_load_shedding=False, load_shedding_threshold=1000, load_shedding_drop_rate=0.1, load_shedding_strategy=random)\n",
      "SortedPatternMatchStorage created with storage_params: TreeStorageParameters(sort_storage=False, attributes_priorities={}, clean_up_interval=10, prioritize_sorting_by_timestamp=True, enable_load_shedding=False, load_shedding_threshold=1000, load_shedding_drop_rate=0.1, load_shedding_strategy=random)\n",
      "Initialized CEP with the following parameters:\n",
      " - Patterns: [\n",
      "Pattern structure: SEQ([(CitiBikeTrip a)+, CitiBikeTrip b])\n",
      "Condition: KCIndex offset=-1 [a] AND KCIndex offset=-1 [a] AND [a, b] AND [a, b] AND [b]\n",
      "Time window: 0:01:00\n",
      "\n",
      "]\n",
      " - Evaluation Mechanism: None\n",
      " - Parallel Execution: None\n",
      " - Pattern Preprocessing: None\n",
      " - Storage: None\n"
     ]
    }
   ],
   "source": [
    "cep = CEP([citibikeHotPathsPattern])"
   ]
  },
  {
   "cell_type": "code",
   "execution_count": 14,
   "id": "57efdb02",
   "metadata": {},
   "outputs": [
    {
     "name": "stdout",
     "output_type": "stream",
     "text": [
      "Starting CEP evaluation...\n",
      "Using optimized DataFrame input stream processing\n",
      "Processing event in TreeBasedEvaluationMechanism: {'tripduration': 320, 'starttime': Timestamp('2019-01-01 00:01:47.401000'), 'stoptime': Timestamp('2019-01-01 00:07:07.581000'), 'startstationid': 3160.0, 'endstationid': 123.0, 'bikeid': 15839}\n",
      "SortedPatternMatchStorage.add() called Key: 2019-01-01 00:01:47.401000, length of partial matches: 0\n",
      "Current events in pattern match: [{'tripduration': 320, 'starttime': 2019-01-01 00:01:47.401000, 'stoptime': 2019-01-01 00:07:07.581000, 'startstationid': 3160.0, 'endstationid': 123.0, 'bikeid': 15839}]\n",
      "UnsortedPatternMatchStorage.add() called! Total matches: 0\n",
      "Processing event in TreeBasedEvaluationMechanism: {'tripduration': 320, 'starttime': Timestamp('2019-01-01 00:01:47.401000'), 'stoptime': Timestamp('2019-01-01 00:07:07.581000'), 'startstationid': 123.0, 'endstationid': 519.0, 'bikeid': 15839}\n",
      "SortedPatternMatchStorage.add() called Key: 2019-01-01 00:01:47.401000, length of partial matches: 1\n",
      "Current events in pattern match: [{'tripduration': 320, 'starttime': 2019-01-01 00:01:47.401000, 'stoptime': 2019-01-01 00:07:07.581000, 'startstationid': 123.0, 'endstationid': 519.0, 'bikeid': 15839}]\n",
      "UnsortedPatternMatchStorage.add() called! Total matches: 1\n",
      "UnsortedPatternMatchStorage.add() called! Total matches: 2\n",
      "Processing event in TreeBasedEvaluationMechanism: {'tripduration': 316, 'starttime': Timestamp('2019-01-01 00:04:43.736000'), 'stoptime': Timestamp('2019-01-01 00:10:00.608000'), 'startstationid': 519.0, 'endstationid': 484.0, 'bikeid': 32723}\n",
      "SortedPatternMatchStorage.add() called Key: 2019-01-01 00:04:43.736000, length of partial matches: 2\n",
      "Current events in pattern match: [{'tripduration': 316, 'starttime': 2019-01-01 00:04:43.736000, 'stoptime': 2019-01-01 00:10:00.608000, 'startstationid': 519.0, 'endstationid': 484.0, 'bikeid': 32723}]\n",
      "UnsortedPatternMatchStorage.add() called! Total matches: 3\n",
      "Processing event in TreeBasedEvaluationMechanism: {'tripduration': 316, 'starttime': Timestamp('2019-01-01 00:04:43.736000'), 'stoptime': Timestamp('2019-01-01 00:10:00.608000'), 'startstationid': 5119.0, 'endstationid': 484.0, 'bikeid': 32723}\n",
      "SortedPatternMatchStorage.add() called Key: 2019-01-01 00:04:43.736000, length of partial matches: 3\n",
      "Current events in pattern match: [{'tripduration': 316, 'starttime': 2019-01-01 00:04:43.736000, 'stoptime': 2019-01-01 00:10:00.608000, 'startstationid': 5119.0, 'endstationid': 484.0, 'bikeid': 32723}]\n",
      "UnsortedPatternMatchStorage.add() called! Total matches: 4\n",
      "Processing event in TreeBasedEvaluationMechanism: {'tripduration': 591, 'starttime': Timestamp('2019-01-01 00:06:03.997000'), 'stoptime': Timestamp('2019-01-01 00:15:55.438000'), 'startstationid': 3171.0, 'endstationid': 484.0, 'bikeid': 27451}\n",
      "SortedPatternMatchStorage.add() called Key: 2019-01-01 00:06:03.997000, length of partial matches: 4\n",
      "Current events in pattern match: [{'tripduration': 591, 'starttime': 2019-01-01 00:06:03.997000, 'stoptime': 2019-01-01 00:15:55.438000, 'startstationid': 3171.0, 'endstationid': 484.0, 'bikeid': 27451}]\n",
      "UnsortedPatternMatchStorage.add() called! Total matches: 5\n",
      "Processing event in TreeBasedEvaluationMechanism: {'tripduration': 591, 'starttime': Timestamp('2019-01-01 00:06:03.997000'), 'stoptime': Timestamp('2019-01-01 00:15:55.438000'), 'startstationid': 3171.0, 'endstationid': 484.0, 'bikeid': 27451}\n",
      "SortedPatternMatchStorage.add() called Key: 2019-01-01 00:06:03.997000, length of partial matches: 5\n",
      "Current events in pattern match: [{'tripduration': 591, 'starttime': 2019-01-01 00:06:03.997000, 'stoptime': 2019-01-01 00:15:55.438000, 'startstationid': 3171.0, 'endstationid': 484.0, 'bikeid': 27451}]\n",
      "UnsortedPatternMatchStorage.add() called! Total matches: 6\n",
      "Processing event in TreeBasedEvaluationMechanism: {'tripduration': 2719, 'starttime': Timestamp('2019-01-01 00:07:03.545000'), 'stoptime': Timestamp('2019-01-01 00:52:22.650000'), 'startstationid': 504.0, 'endstationid': 3709.0, 'bikeid': 21579}\n",
      "SortedPatternMatchStorage.add() called Key: 2019-01-01 00:07:03.545000, length of partial matches: 6\n",
      "Current events in pattern match: [{'tripduration': 2719, 'starttime': 2019-01-01 00:07:03.545000, 'stoptime': 2019-01-01 00:52:22.650000, 'startstationid': 504.0, 'endstationid': 3709.0, 'bikeid': 21579}]\n",
      "UnsortedPatternMatchStorage.add() called! Total matches: 7\n",
      "Processing event in TreeBasedEvaluationMechanism: {'tripduration': 303, 'starttime': Timestamp('2019-01-01 00:07:35.945000'), 'stoptime': Timestamp('2019-01-01 00:12:39.502000'), 'startstationid': 229.0, 'endstationid': 503.0, 'bikeid': 35379}\n",
      "SortedPatternMatchStorage.add() called Key: 2019-01-01 00:07:35.945000, length of partial matches: 7\n",
      "Current events in pattern match: [{'tripduration': 303, 'starttime': 2019-01-01 00:07:35.945000, 'stoptime': 2019-01-01 00:12:39.502000, 'startstationid': 229.0, 'endstationid': 503.0, 'bikeid': 35379}]\n",
      "UnsortedPatternMatchStorage.add() called! Total matches: 8\n",
      "Processing event in TreeBasedEvaluationMechanism: {'tripduration': 535, 'starttime': Timestamp('2019-01-01 00:08:33.179000'), 'stoptime': Timestamp('2019-01-01 00:17:28.354000'), 'startstationid': 3630.0, 'endstationid': 484.0, 'bikeid': 30315}\n",
      "SortedPatternMatchStorage.add() called Key: 2019-01-01 00:08:33.179000, length of partial matches: 8\n",
      "Current events in pattern match: [{'tripduration': 535, 'starttime': 2019-01-01 00:08:33.179000, 'stoptime': 2019-01-01 00:17:28.354000, 'startstationid': 3630.0, 'endstationid': 484.0, 'bikeid': 30315}]\n",
      "UnsortedPatternMatchStorage.add() called! Total matches: 9\n",
      "Processing event in TreeBasedEvaluationMechanism: {'tripduration': 280, 'starttime': Timestamp('2019-01-01 00:09:21.006000'), 'stoptime': Timestamp('2019-01-01 00:14:01.151000'), 'startstationid': 3675.0, 'endstationid': 3288.0, 'bikeid': 35391}\n",
      "SortedPatternMatchStorage.add() called Key: 2019-01-01 00:09:21.006000, length of partial matches: 9\n",
      "Current events in pattern match: [{'tripduration': 280, 'starttime': 2019-01-01 00:09:21.006000, 'stoptime': 2019-01-01 00:14:01.151000, 'startstationid': 3675.0, 'endstationid': 3288.0, 'bikeid': 35391}]\n",
      "UnsortedPatternMatchStorage.add() called! Total matches: 10\n",
      "Processing event in TreeBasedEvaluationMechanism: {'tripduration': 1547, 'starttime': Timestamp('2019-01-01 00:11:22.907000'), 'stoptime': Timestamp('2019-01-01 00:37:10.055000'), 'startstationid': 285.0, 'endstationid': 3358.0, 'bikeid': 35551}\n",
      "SortedPatternMatchStorage.add() called Key: 2019-01-01 00:11:22.907000, length of partial matches: 2\n",
      "Current events in pattern match: [{'tripduration': 1547, 'starttime': 2019-01-01 00:11:22.907000, 'stoptime': 2019-01-01 00:37:10.055000, 'startstationid': 285.0, 'endstationid': 3358.0, 'bikeid': 35551}]\n",
      "UnsortedPatternMatchStorage.add() called! Total matches: 11\n",
      "Processing event in TreeBasedEvaluationMechanism: {'tripduration': 300, 'starttime': Timestamp('2019-01-01 00:12:17.931000'), 'stoptime': Timestamp('2019-01-01 00:17:18.830000'), 'startstationid': 3394.0, 'endstationid': 3398.0, 'bikeid': 18636}\n",
      "SortedPatternMatchStorage.add() called Key: 2019-01-01 00:12:17.931000, length of partial matches: 3\n",
      "Current events in pattern match: [{'tripduration': 300, 'starttime': 2019-01-01 00:12:17.931000, 'stoptime': 2019-01-01 00:17:18.830000, 'startstationid': 3394.0, 'endstationid': 3398.0, 'bikeid': 18636}]\n",
      "UnsortedPatternMatchStorage.add() called! Total matches: 12\n",
      "Processing event in TreeBasedEvaluationMechanism: {'tripduration': 123, 'starttime': Timestamp('2019-01-01 00:12:19.603000'), 'stoptime': Timestamp('2019-01-01 00:14:23.104000'), 'startstationid': 432.0, 'endstationid': 3656.0, 'bikeid': 35206}\n",
      "SortedPatternMatchStorage.add() called Key: 2019-01-01 00:12:19.603000, length of partial matches: 4\n",
      "Current events in pattern match: [{'tripduration': 123, 'starttime': 2019-01-01 00:12:19.603000, 'stoptime': 2019-01-01 00:14:23.104000, 'startstationid': 432.0, 'endstationid': 3656.0, 'bikeid': 35206}]\n",
      "UnsortedPatternMatchStorage.add() called! Total matches: 13\n",
      "Processing event in TreeBasedEvaluationMechanism: {'tripduration': 932, 'starttime': Timestamp('2019-01-01 00:14:02.797000'), 'stoptime': Timestamp('2019-01-01 00:29:35.045000'), 'startstationid': 379.0, 'endstationid': 336.0, 'bikeid': 35148}\n",
      "SortedPatternMatchStorage.add() called Key: 2019-01-01 00:14:02.797000, length of partial matches: 5\n",
      "Current events in pattern match: [{'tripduration': 932, 'starttime': 2019-01-01 00:14:02.797000, 'stoptime': 2019-01-01 00:29:35.045000, 'startstationid': 379.0, 'endstationid': 336.0, 'bikeid': 35148}]\n",
      "UnsortedPatternMatchStorage.add() called! Total matches: 14\n",
      "Processing event in TreeBasedEvaluationMechanism: {'tripduration': 209, 'starttime': Timestamp('2019-01-01 00:15:09.973000'), 'stoptime': Timestamp('2019-01-01 00:18:39.011000'), 'startstationid': 438.0, 'endstationid': 301.0, 'bikeid': 34416}\n",
      "SortedPatternMatchStorage.add() called Key: 2019-01-01 00:15:09.973000, length of partial matches: 6\n",
      "Current events in pattern match: [{'tripduration': 209, 'starttime': 2019-01-01 00:15:09.973000, 'stoptime': 2019-01-01 00:18:39.011000, 'startstationid': 438.0, 'endstationid': 301.0, 'bikeid': 34416}]\n",
      "UnsortedPatternMatchStorage.add() called! Total matches: 15\n",
      "Processing event in TreeBasedEvaluationMechanism: {'tripduration': 976, 'starttime': Timestamp('2019-01-01 00:15:12.889000'), 'stoptime': Timestamp('2019-01-01 00:31:29.145000'), 'startstationid': 3452.0, 'endstationid': 484.0, 'bikeid': 35685}\n",
      "SortedPatternMatchStorage.add() called Key: 2019-01-01 00:15:12.889000, length of partial matches: 7\n",
      "Current events in pattern match: [{'tripduration': 976, 'starttime': 2019-01-01 00:15:12.889000, 'stoptime': 2019-01-01 00:31:29.145000, 'startstationid': 3452.0, 'endstationid': 484.0, 'bikeid': 35685}]\n",
      "UnsortedPatternMatchStorage.add() called! Total matches: 16\n",
      "Processing event in TreeBasedEvaluationMechanism: {'tripduration': 97, 'starttime': Timestamp('2019-01-01 00:15:40.014000'), 'stoptime': Timestamp('2019-01-01 00:17:17.312000'), 'startstationid': 3430.0, 'endstationid': 3095.0, 'bikeid': 34307}\n",
      "SortedPatternMatchStorage.add() called Key: 2019-01-01 00:15:40.014000, length of partial matches: 8\n",
      "Current events in pattern match: [{'tripduration': 97, 'starttime': 2019-01-01 00:15:40.014000, 'stoptime': 2019-01-01 00:17:17.312000, 'startstationid': 3430.0, 'endstationid': 3095.0, 'bikeid': 34307}]\n",
      "UnsortedPatternMatchStorage.add() called! Total matches: 17\n",
      "Processing event in TreeBasedEvaluationMechanism: {'tripduration': 467, 'starttime': Timestamp('2019-01-01 00:16:22.948000'), 'stoptime': Timestamp('2019-01-01 00:24:10.543000'), 'startstationid': 507.0, 'endstationid': 492.0, 'bikeid': 35561}\n",
      "SortedPatternMatchStorage.add() called Key: 2019-01-01 00:16:22.948000, length of partial matches: 9\n",
      "Current events in pattern match: [{'tripduration': 467, 'starttime': 2019-01-01 00:16:22.948000, 'stoptime': 2019-01-01 00:24:10.543000, 'startstationid': 507.0, 'endstationid': 492.0, 'bikeid': 35561}]\n",
      "UnsortedPatternMatchStorage.add() called! Total matches: 18\n",
      "Processing event in TreeBasedEvaluationMechanism: {'tripduration': 348, 'starttime': Timestamp('2019-01-01 00:17:28.982000'), 'stoptime': Timestamp('2019-01-01 00:23:17.608000'), 'startstationid': 3095.0, 'endstationid': 3101.0, 'bikeid': 35695}\n",
      "SortedPatternMatchStorage.add() called Key: 2019-01-01 00:17:28.982000, length of partial matches: 10\n",
      "Current events in pattern match: [{'tripduration': 348, 'starttime': 2019-01-01 00:17:28.982000, 'stoptime': 2019-01-01 00:23:17.608000, 'startstationid': 3095.0, 'endstationid': 3101.0, 'bikeid': 35695}]\n",
      "UnsortedPatternMatchStorage.add() called! Total matches: 19\n",
      "Processing event in TreeBasedEvaluationMechanism: {'tripduration': 505, 'starttime': Timestamp('2019-01-01 00:18:45.118000'), 'stoptime': Timestamp('2019-01-01 00:27:10.599000'), 'startstationid': 3132.0, 'endstationid': 359.0, 'bikeid': 31801}\n",
      "SortedPatternMatchStorage.add() called Key: 2019-01-01 00:18:45.118000, length of partial matches: 11\n",
      "Current events in pattern match: [{'tripduration': 505, 'starttime': 2019-01-01 00:18:45.118000, 'stoptime': 2019-01-01 00:27:10.599000, 'startstationid': 3132.0, 'endstationid': 359.0, 'bikeid': 31801}]\n",
      "UnsortedPatternMatchStorage.add() called! Total matches: 20\n"
     ]
    },
    {
     "data": {
      "text/plain": [
       "0.020589"
      ]
     },
     "execution_count": 14,
     "metadata": {},
     "output_type": "execute_result"
    }
   ],
   "source": [
    "cep.run(\n",
    "    events,\n",
    "    FileOutputStream(\"../test/demo/Matches\", \"output_citibike.txt\"),\n",
    "    CitiBikeDataFormatter(),\n",
    ")"
   ]
  }
 ],
 "metadata": {
  "kernelspec": {
   "display_name": "venv (3.12.2)",
   "language": "python",
   "name": "python3"
  },
  "language_info": {
   "codemirror_mode": {
    "name": "ipython",
    "version": 3
   },
   "file_extension": ".py",
   "mimetype": "text/x-python",
   "name": "python",
   "nbconvert_exporter": "python",
   "pygments_lexer": "ipython3",
   "version": "3.12.2"
  }
 },
 "nbformat": 4,
 "nbformat_minor": 5
}
