{
 "cells": [
  {
   "cell_type": "code",
   "execution_count": null,
   "id": "e07ddaeb",
   "metadata": {},
   "outputs": [],
   "source": [
    "# Ensure project root (OpenCEP) is on sys.path for imports like `from base.Pattern import Pattern`\n",
    "import sys, os, pathlib\n",
    "\n",
    "nb_dir = (\n",
    "    pathlib.Path(__file__).parent if \"__file__\" in globals() else pathlib.Path.cwd()\n",
    ")\n",
    "project_root = str((nb_dir / \"..\").resolve())\n",
    "if project_root not in sys.path:\n",
    "    sys.path.insert(0, project_root)"
   ]
  },
  {
   "cell_type": "code",
   "execution_count": null,
   "id": "6d7e84e9",
   "metadata": {},
   "outputs": [],
   "source": [
    "from datetime import timedelta\n",
    "from CEP import CEP\n",
    "from base.Pattern import Pattern\n",
    "from base.PatternStructure import (\n",
    "    SeqOperator,\n",
    "    PrimitiveEventStructure,\n",
    "    KleeneClosureOperator,\n",
    ")\n",
    "from condition.CompositeCondition import AndCondition\n",
    "from condition.Condition import Variable, SimpleCondition\n",
    "from condition.KCCondition import KCIndexCondition\n",
    "from stream.FileStream import FileOutputStream\n",
    "from stream.DataFrameStream import CitiBikeDataFrameInputStream\n",
    "from plugin.citibike.CitiBike2 import (\n",
    "    CitiBikeTripEventTypeClassifier,\n",
    "    CitiBikeDataFormatter,\n",
    ")\n",
    "import test\n",
    "from tree.PatternMatchStorage import TreeStorageParameters\n",
    "from parallel.ParallelExecutionParameters import (\n",
    "    DataParallelExecutionParametersHirzelAlgorithm,\n",
    ")\n",
    "from parallel.ParallelExecutionPlatforms import ParallelExecutionPlatforms\n",
    "from plugin.citibike.RessourceConsumption import RessourceConsumption\n",
    "\n",
    "monitor = RessourceConsumption()\n"
   ]
  },
  {
   "cell_type": "code",
   "execution_count": null,
   "id": "f805900a",
   "metadata": {},
   "outputs": [],
   "source": [
    "citibikeHotPathsPattern = Pattern(\n",
    "    SeqOperator(\n",
    "        KleeneClosureOperator(PrimitiveEventStructure(\"CitiBikeTrip\", \"a\"), max_size=5),\n",
    "        PrimitiveEventStructure(\"CitiBikeTrip\", \"b\"),\n",
    "    ),\n",
    "    AndCondition(\n",
    "        KCIndexCondition(\n",
    "            names={\"a\"},\n",
    "            getattr_func=lambda x: x[\"bikeid\"],\n",
    "            relation_op=lambda a1, a2: a1 == a2,\n",
    "            offset=-1,\n",
    "        ),\n",
    "        KCIndexCondition(\n",
    "            names={\"a\"},\n",
    "            getattr_func=lambda x: (\n",
    "                int(float(x[\"startstationid\"])),\n",
    "                int(float(x[\"endstationid\"])),\n",
    "            ),\n",
    "            relation_op=lambda a1, a2: a1[0] == a2[1],\n",
    "            offset=-1,\n",
    "        ),\n",
    "        SimpleCondition(\n",
    "            Variable(\"a\", lambda x: x[-1][\"bikeid\"]),\n",
    "            Variable(\"b\", lambda x: x[\"bikeid\"]),\n",
    "            relation_op=lambda a, b: a == b,\n",
    "        ),\n",
    "        SimpleCondition(\n",
    "            Variable(\"a\", lambda x: int(float(x[-1][\"endstationid\"]))),\n",
    "            Variable(\"b\", lambda x: int(float(x[\"startstationid\"]))),\n",
    "            relation_op=lambda a, b: a == b,\n",
    "        ),\n",
    "        SimpleCondition(\n",
    "            Variable(\"b\", lambda x: int(float(x[\"endstationid\"]))),\n",
    "            relation_op=lambda end_id: str(end_id) in {\"111111\"},\n",
    "        ),\n",
    "    ),\n",
    "    timedelta(minutes=31),\n",
    ")"
   ]
  },
  {
   "cell_type": "code",
   "execution_count": null,
   "id": "8a7bea7d",
   "metadata": {},
   "outputs": [],
   "source": [
    "input_file = \"../test/EventFiles/201901-citibike-tripdata-1-fabricated-small.csv\"\n",
    "output_file = \"output_citibike_baseline_small_try.txt\"\n",
    "\n",
    "events = CitiBikeDataFrameInputStream(\n",
    "    input_file,\n",
    "    timestamp_column=\"starttime\",\n",
    ")\n",
    "cep = CEP([citibikeHotPathsPattern])\n",
    "monitor.run(\n",
    "    cep.run,\n",
    "    events,\n",
    "    FileOutputStream(\"../test/demo/Matches/testing\", output_file),\n",
    "    CitiBikeDataFormatter(),\n",
    ")"
   ]
  },
  {
   "cell_type": "markdown",
   "id": "884589e1",
   "metadata": {},
   "source": [
    "# Baseline - small dataset"
   ]
  },
  {
   "cell_type": "code",
   "execution_count": null,
   "id": "7899eb77",
   "metadata": {},
   "outputs": [],
   "source": [
    "input_file = \"../test/EventFiles/201901-citibike-tripdata-1-fabricated-small.csv\"\n",
    "output_file = \"output_citibike_baseline_small.txt\"\n",
    "\n",
    "events = CitiBikeDataFrameInputStream(\n",
    "    input_file,\n",
    "    timestamp_column=\"starttime\",\n",
    ")\n",
    "cep = CEP([citibikeHotPathsPattern])\n",
    "monitor.run(\n",
    "    cep.run,\n",
    "    events,\n",
    "    FileOutputStream(\"../test/demo/Matches/testing\", output_file),\n",
    "    CitiBikeDataFormatter(),\n",
    ")"
   ]
  },
  {
   "cell_type": "markdown",
   "id": "17864d6e",
   "metadata": {},
   "source": [
    "# Both small dataste"
   ]
  },
  {
   "cell_type": "code",
   "execution_count": null,
   "id": "e87f05ce",
   "metadata": {},
   "outputs": [],
   "source": [
    "input_file = \"../test/EventFiles/201901-citibike-tripdata-1-fabricated-small.csv\"\n",
    "output_file = \"output_citibike_both_small.txt\"\n",
    "\n",
    "load_shedding_params = TreeStorageParameters(\n",
    "    sort_storage=True,\n",
    "    enable_load_shedding=True,\n",
    "    load_shedding_threshold=30,\n",
    "    load_shedding_drop_rate=0.3,\n",
    "    load_shedding_strategy=\"oldest\",\n",
    "    clean_up_interval=10,\n",
    "    latency_bound=0.08\n",
    ")\n",
    "dp_params = DataParallelExecutionParametersHirzelAlgorithm(\n",
    "    platform=ParallelExecutionPlatforms.THREADING,\n",
    "    units_number=12,  # how many threads\n",
    "    key=\"bikeid\",\n",
    ")\n",
    "cep = CEP([citibikeHotPathsPattern], parallel_execution_params=dp_params, storage_params=load_shedding_params )\n",
    "\n",
    "events = CitiBikeDataFrameInputStream(\n",
    "    input_file,\n",
    "    timestamp_column=\"starttime\",\n",
    ")\n",
    "\n",
    "monitor.run(\n",
    "    cep.run,\n",
    "    events,\n",
    "    FileOutputStream(\"../test/demo/Matches/testing\", output_file),\n",
    "    CitiBikeDataFormatter(),\n",
    ")"
   ]
  },
  {
   "cell_type": "markdown",
   "id": "857a4cf6",
   "metadata": {},
   "source": [
    "# Both half dataset"
   ]
  },
  {
   "cell_type": "code",
   "execution_count": null,
   "id": "3ccd4b0e",
   "metadata": {},
   "outputs": [],
   "source": [
    "input_file = \"../test/EventFiles/201901-citibike-tripdata-1-fabricated-original-half.csv\"\n",
    "output_file = \"output_citibike_both_half2.txt\"\n",
    "\n",
    "load_shedding_params = TreeStorageParameters(\n",
    "    sort_storage=True,\n",
    "    enable_load_shedding=True,\n",
    "    load_shedding_threshold=30,\n",
    "    load_shedding_drop_rate=0.3,\n",
    "    load_shedding_strategy=\"oldest\",\n",
    "    clean_up_interval=10,\n",
    "    latency_bound=0.08\n",
    ")\n",
    "dp_params = DataParallelExecutionParametersHirzelAlgorithm(\n",
    "    platform=ParallelExecutionPlatforms.THREADING,\n",
    "    units_number=12,  # how many threads\n",
    "    key=\"bikeid\",\n",
    ")\n",
    "cep = CEP([citibikeHotPathsPattern], parallel_execution_params=dp_params, storage_params=load_shedding_params )\n",
    "\n",
    "events = CitiBikeDataFrameInputStream(\n",
    "    input_file,\n",
    "    timestamp_column=\"starttime\",\n",
    ")\n",
    "\n",
    "monitor.run(\n",
    "    cep.run,\n",
    "    events,\n",
    "    FileOutputStream(\"../test/demo/Matches/testing\", output_file),\n",
    "    CitiBikeDataFormatter(),\n",
    ")"
   ]
  },
  {
   "cell_type": "markdown",
   "id": "ca3da4ff",
   "metadata": {},
   "source": [
    "# Both full dataset- max() latency"
   ]
  },
  {
   "cell_type": "code",
   "execution_count": null,
   "id": "305fd179",
   "metadata": {},
   "outputs": [],
   "source": [
    "input_file = \"../test/EventFiles/201901-citibike-tripdata-1-fabricated-original.csv\"\n",
    "output_file = \"output_citibike_both_FULL_DATASET.txt\"\n",
    "\n",
    "load_shedding_params = TreeStorageParameters(\n",
    "    sort_storage=True,\n",
    "    enable_load_shedding=True,\n",
    "    load_shedding_threshold=30,\n",
    "    load_shedding_drop_rate=0.3,\n",
    "    load_shedding_strategy=\"oldest\",\n",
    "    clean_up_interval=10,\n",
    "    latency_bound=0.08\n",
    ")\n",
    "dp_params = DataParallelExecutionParametersHirzelAlgorithm(\n",
    "    platform=ParallelExecutionPlatforms.THREADING,\n",
    "    units_number=12,  # how many threads\n",
    "    key=\"bikeid\",\n",
    ")\n",
    "cep = CEP([citibikeHotPathsPattern], parallel_execution_params=dp_params, storage_params=load_shedding_params )\n",
    "\n",
    "events = CitiBikeDataFrameInputStream(\n",
    "    input_file,\n",
    "    timestamp_column=\"starttime\",\n",
    ")\n",
    "\n",
    "monitor.run(\n",
    "    cep.run,\n",
    "    events,\n",
    "    FileOutputStream(\"../test/demo/Matches/testing\", output_file),\n",
    "    CitiBikeDataFormatter(),\n",
    ")"
   ]
  },
  {
   "cell_type": "markdown",
   "id": "475ddcd5",
   "metadata": {},
   "source": [
    "# Both full dataset, new latency and without weird if"
   ]
  },
  {
   "cell_type": "code",
   "execution_count": null,
   "id": "58a141e8",
   "metadata": {},
   "outputs": [],
   "source": [
    "input_file = \"../test/EventFiles/201901-citibike-tripdata-1-fabricated-original.csv\"\n",
    "output_file = \"output_citibike_both_FULL_DATASET-fixed?.txt\"\n",
    "\n",
    "load_shedding_params = TreeStorageParameters(\n",
    "    sort_storage=True,\n",
    "    enable_load_shedding=True,\n",
    "    load_shedding_threshold=30,\n",
    "    load_shedding_drop_rate=0.3,\n",
    "    load_shedding_strategy=\"oldest\",\n",
    "    clean_up_interval=10,\n",
    "    latency_bound=0.08\n",
    ")\n",
    "dp_params = DataParallelExecutionParametersHirzelAlgorithm(\n",
    "    platform=ParallelExecutionPlatforms.THREADING,\n",
    "    units_number=12,  # how many threads\n",
    "    key=\"bikeid\",\n",
    ")\n",
    "cep = CEP([citibikeHotPathsPattern], parallel_execution_params=dp_params, storage_params=load_shedding_params )\n",
    "\n",
    "events = CitiBikeDataFrameInputStream(\n",
    "    input_file,\n",
    "    timestamp_column=\"starttime\",\n",
    ")\n",
    "\n",
    "monitor.run(\n",
    "    cep.run,\n",
    "    events,\n",
    "    FileOutputStream(\"../test/demo/Matches/testing\", output_file),\n",
    "    CitiBikeDataFormatter(),\n",
    ")"
   ]
  },
  {
   "cell_type": "code",
   "execution_count": null,
   "id": "cb11a8a8",
   "metadata": {},
   "outputs": [],
   "source": []
  },
  {
   "cell_type": "code",
   "execution_count": null,
   "id": "0082aa13",
   "metadata": {},
   "outputs": [],
   "source": [
    "# Parallelization only - big dataset"
   ]
  },
  {
   "cell_type": "code",
   "execution_count": null,
   "id": "c4ba3ffe",
   "metadata": {},
   "outputs": [],
   "source": [
    "dp_params = DataParallelExecutionParametersHirzelAlgorithm(\n",
    "    platform=ParallelExecutionPlatforms.THREADING,\n",
    "    units_number=12,  # how many threads\n",
    "    key=\"bikeid\",\n",
    ")\n",
    "cep = CEP([citibikeHotPathsPattern], parallel_execution_params=dp_params)"
   ]
  },
  {
   "cell_type": "code",
   "execution_count": null,
   "id": "e7d65ec0",
   "metadata": {},
   "outputs": [],
   "source": [
    "input_file = \"../test/EventFiles/201901-citibike-tripdata-1-fabricated.csv\"\n",
    "output_file = \"output_citibike_only_parallel.txt\"\n",
    "\n",
    "events = CitiBikeDataFrameInputStream(\n",
    "    input_file,\n",
    "    timestamp_column=\"starttime\",\n",
    ")\n"
   ]
  },
  {
   "cell_type": "code",
   "execution_count": null,
   "id": "24074aa7",
   "metadata": {},
   "outputs": [],
   "source": [
    "# cep.run(\n",
    "#     events,\n",
    "#     FileOutputStream(\"../test/demo/Matches/testing\", output_file),\n",
    "#     CitiBikeDataFormatter(),\n",
    "# )\n",
    "#ran for 513 min"
   ]
  },
  {
   "cell_type": "markdown",
   "id": "ede420c6",
   "metadata": {},
   "source": [
    "# Parallelization only - small dataset"
   ]
  },
  {
   "cell_type": "code",
   "execution_count": null,
   "id": "5ec0aac8",
   "metadata": {},
   "outputs": [],
   "source": [
    "input_file = \"../test/EventFiles/201901-citibike-tripdata-1-fabricated-small.csv\"\n",
    "output_file = \"output_citibike_only_parallel-small.txt\"\n",
    "\n",
    "events = CitiBikeDataFrameInputStream(\n",
    "    input_file,\n",
    "    timestamp_column=\"starttime\",\n",
    ")"
   ]
  },
  {
   "cell_type": "code",
   "execution_count": null,
   "id": "27a48898",
   "metadata": {},
   "outputs": [],
   "source": [
    "cep.run(\n",
    "    events,\n",
    "    FileOutputStream(\"../test/demo/Matches/testing\", output_file),\n",
    "    CitiBikeDataFormatter(),\n",
    ")"
   ]
  },
  {
   "cell_type": "markdown",
   "id": "c0848972",
   "metadata": {},
   "source": [
    "# Parallelization & Load shedding"
   ]
  },
  {
   "cell_type": "code",
   "execution_count": null,
   "id": "75d80932",
   "metadata": {},
   "outputs": [],
   "source": [
    "load_shedding_params = TreeStorageParameters(\n",
    "    sort_storage=True,\n",
    "    enable_load_shedding=True,\n",
    "    load_shedding_threshold=15,\n",
    "    load_shedding_drop_rate=0.3,\n",
    "    load_shedding_strategy=\"oldest\",\n",
    "    clean_up_interval=10,\n",
    ")\n",
    "dp_params = DataParallelExecutionParametersHirzelAlgorithm(\n",
    "    platform=ParallelExecutionPlatforms.THREADING,\n",
    "    units_number=8,  # how many threads\n",
    "    key=\"bikeid\",\n",
    ")\n",
    "cep = CEP([citibikeHotPathsPattern], parallel_execution_params=dp_params, storage_params=load_shedding_params )\n"
   ]
  },
  {
   "cell_type": "code",
   "execution_count": null,
   "id": "accdd361",
   "metadata": {},
   "outputs": [],
   "source": [
    "input_file = \"../test/EventFiles/201901-citibike-tripdata-1-fabricated.csv\"\n",
    "output_file = \"output_citibike_both.txt\"\n",
    "\n",
    "events = CitiBikeDataFrameInputStream(\n",
    "    input_file,\n",
    "    timestamp_column=\"starttime\",\n",
    ")"
   ]
  },
  {
   "cell_type": "code",
   "execution_count": null,
   "id": "8ea3dee1",
   "metadata": {},
   "outputs": [],
   "source": [
    "cep.run(\n",
    "    events,\n",
    "    FileOutputStream(\"../test/demo/Matches/testing\", output_file),\n",
    "    CitiBikeDataFormatter(),\n",
    ")# ran for an hour"
   ]
  },
  {
   "cell_type": "markdown",
   "id": "cbcdcc13",
   "metadata": {},
   "source": [
    "# Load shedding 2"
   ]
  },
  {
   "cell_type": "code",
   "execution_count": null,
   "id": "214d0dfe",
   "metadata": {},
   "outputs": [],
   "source": [
    "load_shedding_params = TreeStorageParameters(\n",
    "    sort_storage=True,\n",
    "    enable_load_shedding=True,\n",
    "    load_shedding_threshold=15,\n",
    "    load_shedding_drop_rate=0.3,\n",
    "    load_shedding_strategy=\"oldest\",\n",
    "    clean_up_interval=10,\n",
    ")\n",
    "dp_params = DataParallelExecutionParametersHirzelAlgorithm(\n",
    "    platform=ParallelExecutionPlatforms.THREADING,\n",
    "    units_number=8,  # how many threads\n",
    "    key=\"bikeid\",\n",
    ")\n",
    "cep = CEP([citibikeHotPathsPattern], parallel_execution_params=dp_params, storage_params=load_shedding_params )\n"
   ]
  },
  {
   "cell_type": "code",
   "execution_count": null,
   "id": "8509b6cb",
   "metadata": {},
   "outputs": [],
   "source": [
    "input_file = \"../test/EventFiles/201901-citibike-tripdata-1-fabricated.csv\"\n",
    "output_file = \"output_citibike_both-2.txt\"\n",
    "\n",
    "events = CitiBikeDataFrameInputStream(\n",
    "    input_file,\n",
    "    timestamp_column=\"starttime\",\n",
    ")"
   ]
  },
  {
   "cell_type": "code",
   "execution_count": null,
   "id": "7db34534",
   "metadata": {},
   "outputs": [],
   "source": [
    "cep.run(\n",
    "    events,\n",
    "    FileOutputStream(\"../test/demo/Matches/testing\", output_file),\n",
    "    CitiBikeDataFormatter(),\n",
    ")"
   ]
  },
  {
   "cell_type": "markdown",
   "id": "e371a191",
   "metadata": {},
   "source": [
    "# Both after merge"
   ]
  },
  {
   "cell_type": "code",
   "execution_count": null,
   "id": "1bfa7d14",
   "metadata": {},
   "outputs": [],
   "source": [
    "load_shedding_params = TreeStorageParameters(\n",
    "    sort_storage=True,\n",
    "    enable_load_shedding=True,\n",
    "    load_shedding_threshold=15,\n",
    "    load_shedding_drop_rate=0.3,\n",
    "    load_shedding_strategy=\"oldest\",\n",
    "    clean_up_interval=10,\n",
    "    latency_bound=0.01\n",
    ")\n",
    "dp_params = DataParallelExecutionParametersHirzelAlgorithm(\n",
    "    platform=ParallelExecutionPlatforms.THREADING,\n",
    "    units_number=8,  # how many threads\n",
    "    key=\"bikeid\",\n",
    ")\n",
    "cep = CEP([citibikeHotPathsPattern], parallel_execution_params=dp_params, storage_params=load_shedding_params )\n"
   ]
  },
  {
   "cell_type": "code",
   "execution_count": null,
   "id": "181267c4",
   "metadata": {},
   "outputs": [],
   "source": [
    "input_file = \"../test/EventFiles/201901-citibike-tripdata-1-fabricated-small.csv\"\n",
    "output_file = \"output_citibike_both-merge.txt\"\n",
    "\n",
    "events = CitiBikeDataFrameInputStream(\n",
    "    input_file,\n",
    "    timestamp_column=\"starttime\",\n",
    ")"
   ]
  },
  {
   "cell_type": "code",
   "execution_count": null,
   "id": "c5cb55f1",
   "metadata": {},
   "outputs": [],
   "source": [
    "monitor.run(\n",
    "    cep.run,\n",
    "    events,\n",
    "    FileOutputStream(\"../test/demo/Matches\", output_file),\n",
    "    CitiBikeDataFormatter(),\n",
    ")"
   ]
  },
  {
   "cell_type": "markdown",
   "id": "d890e91d",
   "metadata": {},
   "source": [
    "# Both big dataset"
   ]
  },
  {
   "cell_type": "code",
   "execution_count": null,
   "id": "692e8e9d",
   "metadata": {},
   "outputs": [],
   "source": [
    "load_shedding_params = TreeStorageParameters(\n",
    "    sort_storage=True,\n",
    "    enable_load_shedding=True,\n",
    "    load_shedding_threshold=50,\n",
    "    load_shedding_drop_rate=0.3,\n",
    "    load_shedding_strategy=\"oldest\",\n",
    "    clean_up_interval=10,\n",
    "    latency_bound=0.1\n",
    ")\n",
    "dp_params = DataParallelExecutionParametersHirzelAlgorithm(\n",
    "    platform=ParallelExecutionPlatforms.THREADING,\n",
    "    units_number=12,  # how many threads\n",
    "    key=\"bikeid\",\n",
    ")\n",
    "cep = CEP([citibikeHotPathsPattern], parallel_execution_params=dp_params, storage_params=load_shedding_params )\n",
    "input_file = \"../test/EventFiles/201901-citibike-tripdata-1-fabricated.csv\"\n",
    "output_file = \"output_citibike_both-merge-big-0.1latency.txt\"\n",
    "\n",
    "events = CitiBikeDataFrameInputStream(\n",
    "    input_file,\n",
    "    timestamp_column=\"starttime\",\n",
    ")\n"
   ]
  },
  {
   "cell_type": "code",
   "execution_count": null,
   "id": "13741168",
   "metadata": {},
   "outputs": [],
   "source": [
    "monitor.run(\n",
    "    cep.run,\n",
    "    events,\n",
    "    FileOutputStream(\"../test/demo/Matches/testing\", output_file),\n",
    "    CitiBikeDataFormatter(),\n",
    ")"
   ]
  }
 ],
 "metadata": {
  "kernelspec": {
   "display_name": "venv (3.12.2)",
   "language": "python",
   "name": "python3"
  },
  "language_info": {
   "codemirror_mode": {
    "name": "ipython",
    "version": 3
   },
   "file_extension": ".py",
   "mimetype": "text/x-python",
   "name": "python",
   "nbconvert_exporter": "python",
   "pygments_lexer": "ipython3",
   "version": "3.12.2"
  }
 },
 "nbformat": 4,
 "nbformat_minor": 5
}
