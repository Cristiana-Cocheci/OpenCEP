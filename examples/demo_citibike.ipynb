{
 "cells": [
  {
   "cell_type": "code",
   "execution_count": 1,
   "id": "7f1ae110",
   "metadata": {},
   "outputs": [],
   "source": [
    "# Ensure project root (OpenCEP) is on sys.path for imports like `from base.Pattern import Pattern`\n",
    "import sys, os, pathlib\n",
    "nb_dir = pathlib.Path(__file__).parent if \"__file__\" in globals() else pathlib.Path.cwd()\n",
    "project_root = str((nb_dir / \"..\").resolve())\n",
    "if project_root not in sys.path:\n",
    "    sys.path.insert(0, project_root)"
   ]
  },
  {
   "cell_type": "code",
   "execution_count": 2,
   "id": "5e22b2b5",
   "metadata": {},
   "outputs": [],
   "source": [
    "from datetime import timedelta\n",
    "from CEP import CEP\n",
    "from base.Pattern import Pattern\n",
    "from base.PatternStructure import SeqOperator, PrimitiveEventStructure\n",
    "from condition.CompositeCondition import AndCondition\n",
    "from condition.BaseRelationCondition import SmallerThanCondition\n",
    "from condition.Condition import Variable, SimpleCondition\n",
    "from stream.FileStream import FileInputStream, FileOutputStream\n",
    "from plugin.citibike.CitiBike import CitiBikeTripEventTypeClassifier, CitiBikeDataFormatter\n",
    "import test"
   ]
  },
  {
   "cell_type": "code",
   "execution_count": 3,
   "id": "b2c9c53e",
   "metadata": {},
   "outputs": [],
   "source": [
    "citibikeConsecutiveRidesPattern = Pattern(\n",
    "    SeqOperator(\n",
    "        PrimitiveEventStructure(\"CitiBikeTrip\", \"a\"),\n",
    "        PrimitiveEventStructure(\"CitiBikeTrip\", \"b\")),\n",
    "    AndCondition(\n",
    "        SimpleCondition(Variable(\"a\", lambda x: (x[\"start_station_id\"], x[\"end_station_id\"])), \n",
    "                          Variable(\"b\", lambda x: (x[\"start_station_id\"], x[\"end_station_id\"])),\n",
    "                          relation_op=lambda a, b: a[1] == b[0])),\n",
    "    timedelta(minutes=5),\n",
    ")"
   ]
  },
  {
   "cell_type": "code",
   "execution_count": 4,
   "id": "d1569094",
   "metadata": {},
   "outputs": [],
   "source": [
    "cep = CEP([citibikeConsecutiveRidesPattern])\n",
    "events = FileInputStream(\"../test/EventFiles/citibike-small.txt\")"
   ]
  },
  {
   "cell_type": "code",
   "execution_count": 5,
   "id": "57efdb02",
   "metadata": {},
   "outputs": [
    {
     "data": {
      "text/plain": [
       "0.807892"
      ]
     },
     "execution_count": 5,
     "metadata": {},
     "output_type": "execute_result"
    }
   ],
   "source": [
    "cep.run(events, FileOutputStream(\"../test/demo/Matches\", \"output_citibike.txt\"), CitiBikeDataFormatter())"
   ]
  }
 ],
 "metadata": {
  "kernelspec": {
   "display_name": "venv (3.12.2)",
   "language": "python",
   "name": "python3"
  },
  "language_info": {
   "codemirror_mode": {
    "name": "ipython",
    "version": 3
   },
   "file_extension": ".py",
   "mimetype": "text/x-python",
   "name": "python",
   "nbconvert_exporter": "python",
   "pygments_lexer": "ipython3",
   "version": "3.12.2"
  }
 },
 "nbformat": 4,
 "nbformat_minor": 5
}
