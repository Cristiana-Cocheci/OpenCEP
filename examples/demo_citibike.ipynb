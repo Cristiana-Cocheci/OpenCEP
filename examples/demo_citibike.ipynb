{
 "cells": [
  {
   "cell_type": "code",
   "execution_count": 54,
   "id": "7f1ae110",
   "metadata": {},
   "outputs": [],
   "source": [
    "# Ensure project root (OpenCEP) is on sys.path for imports like `from base.Pattern import Pattern`\n",
    "import sys, os, pathlib\n",
    "\n",
    "nb_dir = (\n",
    "    pathlib.Path(__file__).parent if \"__file__\" in globals() else pathlib.Path.cwd()\n",
    ")\n",
    "project_root = str((nb_dir / \"..\").resolve())\n",
    "if project_root not in sys.path:\n",
    "    sys.path.insert(0, project_root)"
   ]
  },
  {
   "cell_type": "code",
   "execution_count": 55,
   "id": "5e22b2b5",
   "metadata": {},
   "outputs": [],
   "source": [
    "from datetime import timedelta\n",
    "from CEP import CEP\n",
    "from base.Pattern import Pattern\n",
    "from base.PatternStructure import (\n",
    "    SeqOperator,\n",
    "    PrimitiveEventStructure,\n",
    "    KleeneClosureOperator,\n",
    ")\n",
    "from condition.CompositeCondition import AndCondition\n",
    "from condition.BaseRelationCondition import SmallerThanCondition\n",
    "from condition.Condition import Variable, SimpleCondition\n",
    "from condition.KCCondition import KCIndexCondition\n",
    "from stream.FileStream import FileInputStream, FileOutputStream\n",
    "from plugin.citibike.CitiBike import (\n",
    "    CitiBikeTripEventTypeClassifier,\n",
    "    CitiBikeDataFormatter,\n",
    ")\n",
    "import test"
   ]
  },
  {
   "cell_type": "code",
   "execution_count": 56,
   "id": "b2c9c53e",
   "metadata": {},
   "outputs": [
    {
     "data": {
      "text/plain": [
       "'citibikeConsecutiveRidesPattern = Pattern(\\n    SeqOperator(\\n        PrimitiveEventStructure(\"CitiBikeTrip\", \"a\"),\\n        PrimitiveEventStructure(\"CitiBikeTrip\", \"b\"),\\n    ),\\n    AndCondition(\\n        SimpleCondition(\\n            Variable(\"a\", lambda x: (x[\"startstationid\"], x[\"endstationid\"])),\\n            Variable(\"b\", lambda x: (x[\"startstationid\"], x[\"endstationid\"])),\\n            relation_op=lambda a, b: a[1] == b[0],\\n        )\\n    ),\\n    timedelta(minutes=5),\\n)'"
      ]
     },
     "execution_count": 56,
     "metadata": {},
     "output_type": "execute_result"
    }
   ],
   "source": [
    "\"\"\"citibikeConsecutiveRidesPattern = Pattern(\n",
    "    SeqOperator(\n",
    "        PrimitiveEventStructure(\"CitiBikeTrip\", \"a\"),\n",
    "        PrimitiveEventStructure(\"CitiBikeTrip\", \"b\"),\n",
    "    ),\n",
    "    AndCondition(\n",
    "        SimpleCondition(\n",
    "            Variable(\"a\", lambda x: (x[\"startstationid\"], x[\"endstationid\"])),\n",
    "            Variable(\"b\", lambda x: (x[\"startstationid\"], x[\"endstationid\"])),\n",
    "            relation_op=lambda a, b: a[1] == b[0],\n",
    "        )\n",
    "    ),\n",
    "    timedelta(minutes=5),\n",
    ")\"\"\""
   ]
  },
  {
   "cell_type": "code",
   "execution_count": 57,
   "id": "6b40b2b6",
   "metadata": {},
   "outputs": [],
   "source": [
    "citibikeHotPathsPattern = Pattern(\n",
    "    SeqOperator(\n",
    "        KleeneClosureOperator(PrimitiveEventStructure(\"CitiBikeTrip\", \"a\")),\n",
    "        PrimitiveEventStructure(\"CitiBikeTrip\", \"b\"),\n",
    "    ),\n",
    "    AndCondition(\n",
    "        KCIndexCondition(\n",
    "            names={\"a\"},\n",
    "            getattr_func=lambda x: x[\"bike_id\"],\n",
    "            relation_op=lambda a1, a2: a1 == a2,\n",
    "            offset=-1,\n",
    "        ),\n",
    "        KCIndexCondition(\n",
    "            names={\"a\"},\n",
    "            getattr_func=lambda x: (\n",
    "                int(float(x[\"startstationid\"])),\n",
    "                int(float(x[\"endstationid\"])),\n",
    "            ),\n",
    "            relation_op=lambda a1, a2: a1[0] == a2[1],\n",
    "            offset=-1,\n",
    "        ),\n",
    "        SimpleCondition(\n",
    "            Variable(\"a\", lambda x: x[-1][\"bike_id\"]),\n",
    "            Variable(\"b\", lambda x: x[\"bike_id\"]),\n",
    "            relation_op=lambda a, b: a == b,\n",
    "        ),\n",
    "        SimpleCondition(\n",
    "            Variable(\"a\", lambda x: int(float(x[-1][\"endstationid\"]))),\n",
    "            Variable(\"b\", lambda x: int(float(x[\"startstationid\"]))),\n",
    "            relation_op=lambda a, b: a == b,\n",
    "        ),\n",
    "        SimpleCondition(\n",
    "            Variable(\"b\", lambda x: int(float(x[\"endstationid\"]))),\n",
    "            relation_op=lambda end_id: str(end_id) in {\"484\"},\n",
    "        ),\n",
    "    ),\n",
    "    timedelta(minutes=60),\n",
    ")"
   ]
  },
  {
   "cell_type": "code",
   "execution_count": 58,
   "id": "d1569094",
   "metadata": {},
   "outputs": [],
   "source": [
    "cep = CEP([citibikeHotPathsPattern])\n",
    "events = FileInputStream(\"../test/EventFiles/citibike-withbikeid_smaller.txt\")"
   ]
  },
  {
   "cell_type": "code",
   "execution_count": null,
   "id": "57efdb02",
   "metadata": {},
   "outputs": [],
   "source": [
    "cep.run(\n",
    "    events,\n",
    "    FileOutputStream(\"../test/demo/Matches\", \"output_citibike.txt\"),\n",
    "    CitiBikeDataFormatter(),\n",
    ")"
   ]
  }
 ],
 "metadata": {
  "kernelspec": {
   "display_name": "Python 3",
   "language": "python",
   "name": "python3"
  },
  "language_info": {
   "codemirror_mode": {
    "name": "ipython",
    "version": 3
   },
   "file_extension": ".py",
   "mimetype": "text/x-python",
   "name": "python",
   "nbconvert_exporter": "python",
   "pygments_lexer": "ipython3",
   "version": "3.12.3"
  }
 },
 "nbformat": 4,
 "nbformat_minor": 5
}
