{
 "cells": [
  {
   "cell_type": "code",
   "execution_count": 1,
   "id": "7f1ae110",
   "metadata": {},
   "outputs": [],
   "source": [
    "# Ensure project root (OpenCEP) is on sys.path for imports like `from base.Pattern import Pattern`\n",
    "import sys, os, pathlib\n",
    "\n",
    "nb_dir = (\n",
    "    pathlib.Path(__file__).parent if \"__file__\" in globals() else pathlib.Path.cwd()\n",
    ")\n",
    "project_root = str((nb_dir / \"..\").resolve())\n",
    "if project_root not in sys.path:\n",
    "    sys.path.insert(0, project_root)"
   ]
  },
  {
   "cell_type": "code",
   "execution_count": 2,
   "id": "5e22b2b5",
   "metadata": {},
   "outputs": [],
   "source": [
    "from datetime import timedelta\n",
    "from CEP import CEP\n",
    "from base.Pattern import Pattern\n",
    "from base.PatternStructure import (\n",
    "    SeqOperator,\n",
    "    PrimitiveEventStructure,\n",
    "    KleeneClosureOperator,\n",
    ")\n",
    "from condition.CompositeCondition import AndCondition\n",
    "from condition.BaseRelationCondition import SmallerThanCondition\n",
    "from condition.Condition import Variable, SimpleCondition\n",
    "from condition.KCCondition import KCIndexCondition\n",
    "from stream.FileStream import FileInputStream, FileOutputStream\n",
    "from plugin.citibike.CitiBike import (\n",
    "    CitiBikeTripEventTypeClassifier,\n",
    "    CitiBikeDataFormatter,\n",
    ")\n",
    "import test"
   ]
  },
  {
   "cell_type": "code",
   "execution_count": 3,
   "id": "b2c9c53e",
   "metadata": {},
   "outputs": [
    {
     "data": {
      "text/plain": [
       "'citibikeConsecutiveRidesPattern = Pattern(\\n    SeqOperator(\\n        PrimitiveEventStructure(\"CitiBikeTrip\", \"a\"),\\n        PrimitiveEventStructure(\"CitiBikeTrip\", \"b\"),\\n    ),\\n    AndCondition(\\n        SimpleCondition(\\n            Variable(\"a\", lambda x: (x[\"startstationid\"], x[\"endstationid\"])),\\n            Variable(\"b\", lambda x: (x[\"startstationid\"], x[\"endstationid\"])),\\n            relation_op=lambda a, b: a[1] == b[0],\\n        )\\n    ),\\n    timedelta(minutes=5),\\n)'"
      ]
     },
     "execution_count": 3,
     "metadata": {},
     "output_type": "execute_result"
    }
   ],
   "source": [
    "\"\"\"citibikeConsecutiveRidesPattern = Pattern(\n",
    "    SeqOperator(\n",
    "        PrimitiveEventStructure(\"CitiBikeTrip\", \"a\"),\n",
    "        PrimitiveEventStructure(\"CitiBikeTrip\", \"b\"),\n",
    "    ),\n",
    "    AndCondition(\n",
    "        SimpleCondition(\n",
    "            Variable(\"a\", lambda x: (x[\"startstationid\"], x[\"endstationid\"])),\n",
    "            Variable(\"b\", lambda x: (x[\"startstationid\"], x[\"endstationid\"])),\n",
    "            relation_op=lambda a, b: a[1] == b[0],\n",
    "        )\n",
    "    ),\n",
    "    timedelta(minutes=5),\n",
    ")\"\"\""
   ]
  },
  {
   "cell_type": "code",
   "execution_count": 4,
   "id": "6b40b2b6",
   "metadata": {},
   "outputs": [],
   "source": [
    "citibikeHotPathsPattern = Pattern(\n",
    "    SeqOperator(\n",
    "        KleeneClosureOperator(PrimitiveEventStructure(\"CitiBikeTrip\", \"a\")),\n",
    "        PrimitiveEventStructure(\"CitiBikeTrip\", \"b\"),\n",
    "    ),\n",
    "    AndCondition(\n",
    "        KCIndexCondition(\n",
    "            names={\"a\"},\n",
    "            getattr_func=lambda x: x[\"bike_id\"],\n",
    "            relation_op=lambda a1, a2: a1 == a2,\n",
    "            offset=-1,\n",
    "        ),\n",
    "        KCIndexCondition(\n",
    "            names={\"a\"},\n",
    "            getattr_func=lambda x: (\n",
    "                int(float(x[\"startstationid\"])),\n",
    "                int(float(x[\"endstationid\"])),\n",
    "            ),\n",
    "            relation_op=lambda a1, a2: a1[0] == a2[1],\n",
    "            offset=-1,\n",
    "        ),\n",
    "        SimpleCondition(\n",
    "            Variable(\"a\", lambda x: x[-1][\"bike_id\"]),\n",
    "            Variable(\"b\", lambda x: x[\"bike_id\"]),\n",
    "            relation_op=lambda a, b: a == b,\n",
    "        ),\n",
    "        SimpleCondition(\n",
    "            Variable(\"a\", lambda x: int(float(x[-1][\"endstationid\"]))),\n",
    "            Variable(\"b\", lambda x: int(float(x[\"startstationid\"]))),\n",
    "            relation_op=lambda a, b: a == b,\n",
    "        ),\n",
    "        SimpleCondition(\n",
    "            Variable(\"b\", lambda x: int(float(x[\"endstationid\"]))),\n",
    "            relation_op=lambda end_id: str(end_id) in {\"484\"},\n",
    "        ),\n",
    "    ),\n",
    "    timedelta(minutes=10),\n",
    ")"
   ]
  },
  {
   "cell_type": "code",
   "execution_count": 5,
   "id": "d1569094",
   "metadata": {},
   "outputs": [
    {
     "name": "stdout",
     "output_type": "stream",
     "text": [
      "Creating evaluation manager...\n",
      " - Parallel execution: None\n",
      " - Storage: None\n",
      " - Using ParallelExecutionModes.SEQUENTIAL execution mode\n",
      "!!! Using default evaluation mechanism parameters...\n",
      "!!! Creating tree-based evaluation mechanism...\n",
      "Tree calling create_storage_unit with storage_params: TreeStorageParameters(sort_storage=False, attributes_priorities={}, clean_up_interval=10, prioritize_sorting_by_timestamp=True, enable_load_shedding=False, load_shedding_threshold=1000, load_shedding_drop_rate=0.1, load_shedding_strategy=random)\n",
      "InternalNode creating storage: sort=False, sorting_key=None\n",
      "UnsortedPatternMatchStorage created with storage_params: TreeStorageParameters(sort_storage=False, attributes_priorities={}, clean_up_interval=10, prioritize_sorting_by_timestamp=True, enable_load_shedding=False, load_shedding_threshold=1000, load_shedding_drop_rate=0.1, load_shedding_strategy=random)\n",
      "InternalNode creating storage: sort=False, sorting_key=None\n",
      "UnsortedPatternMatchStorage created with storage_params: TreeStorageParameters(sort_storage=False, attributes_priorities={}, clean_up_interval=10, prioritize_sorting_by_timestamp=True, enable_load_shedding=False, load_shedding_threshold=1000, load_shedding_drop_rate=0.1, load_shedding_strategy=random)\n",
      "LeafNode.create_storage_unit called with storage_params: TreeStorageParameters(sort_storage=False, attributes_priorities={}, clean_up_interval=10, prioritize_sorting_by_timestamp=True, enable_load_shedding=False, load_shedding_threshold=1000, load_shedding_drop_rate=0.1, load_shedding_strategy=random)\n",
      "LeafNode creating SortedPatternMatchStorage with storage_params: TreeStorageParameters(sort_storage=False, attributes_priorities={}, clean_up_interval=10, prioritize_sorting_by_timestamp=True, enable_load_shedding=False, load_shedding_threshold=1000, load_shedding_drop_rate=0.1, load_shedding_strategy=random)\n",
      "SortedPatternMatchStorage created with storage_params: TreeStorageParameters(sort_storage=False, attributes_priorities={}, clean_up_interval=10, prioritize_sorting_by_timestamp=True, enable_load_shedding=False, load_shedding_threshold=1000, load_shedding_drop_rate=0.1, load_shedding_strategy=random)\n",
      "LeafNode.create_storage_unit called with storage_params: TreeStorageParameters(sort_storage=False, attributes_priorities={}, clean_up_interval=10, prioritize_sorting_by_timestamp=True, enable_load_shedding=False, load_shedding_threshold=1000, load_shedding_drop_rate=0.1, load_shedding_strategy=random)\n",
      "LeafNode creating SortedPatternMatchStorage with storage_params: TreeStorageParameters(sort_storage=False, attributes_priorities={}, clean_up_interval=10, prioritize_sorting_by_timestamp=True, enable_load_shedding=False, load_shedding_threshold=1000, load_shedding_drop_rate=0.1, load_shedding_strategy=random)\n",
      "SortedPatternMatchStorage created with storage_params: TreeStorageParameters(sort_storage=False, attributes_priorities={}, clean_up_interval=10, prioritize_sorting_by_timestamp=True, enable_load_shedding=False, load_shedding_threshold=1000, load_shedding_drop_rate=0.1, load_shedding_strategy=random)\n",
      "Initialized CEP with the following parameters:\n",
      " - Patterns: [\n",
      "Pattern structure: SEQ([(CitiBikeTrip a)+, CitiBikeTrip b])\n",
      "Condition: KCIndex offset=-1 [a] AND KCIndex offset=-1 [a] AND [a, b] AND [a, b] AND [b]\n",
      "Time window: 0:10:00\n",
      "\n",
      "]\n",
      " - Evaluation Mechanism: None\n",
      " - Parallel Execution: None\n",
      " - Pattern Preprocessing: None\n",
      " - Storage: None\n"
     ]
    }
   ],
   "source": [
    "cep = CEP([citibikeHotPathsPattern])\n",
    "events = FileInputStream(\"../test/EventFiles/citibike-withbikeid-smallest.txt\")"
   ]
  },
  {
   "cell_type": "code",
   "execution_count": 6,
   "id": "57efdb02",
   "metadata": {},
   "outputs": [
    {
     "name": "stdout",
     "output_type": "stream",
     "text": [
      "Starting CEP evaluation...\n",
      "Using generic file input stream processing\n",
      "Parsing raw data: 320,2019-01-01 00:01:47.4010,2019-01-01 00:07:07.5810,3160.0,Central Park West & W 76 St,3283.0,W 89 St & Columbus Ave,15839\n",
      "\n",
      "Playing new event on tree: {'tripduration': '320', 'starttime': 2019-01-01 00:01:47.401000, 'stoptime': 2019-01-01 00:07:07.581000, 'startstationid': '3160.0', 'startstationname': 'Central Park West & W 76 St', 'endstationid': '3283.0', 'endstationname': 'W 89 St & Columbus Ave', 'bike_id': '15839'}, trying to find matches\n",
      "Playing new event. Event types listeners: {'CitiBikeTrip': [<tree.nodes.LeafNode.LeafNode object at 0x11882f830>, <tree.nodes.LeafNode.LeafNode object at 0x11943c3e0>]}\n",
      "SortedPatternMatchStorage.add() called Key: 2019-01-01 00:01:47.401000, length of partial matches: 0\n",
      "Current events in pattern match: [{'tripduration': '320', 'starttime': 2019-01-01 00:01:47.401000, 'stoptime': 2019-01-01 00:07:07.581000, 'startstationid': '3160.0', 'startstationname': 'Central Park West & W 76 St', 'endstationid': '3283.0', 'endstationname': 'W 89 St & Columbus Ave', 'bike_id': '15839'}]\n",
      "UnsortedPatternMatchStorage.add() called! Total matches: 0\n",
      "Parsing raw data: 316,2019-01-01 00:04:43.7360,2019-01-01 00:10:00.6080,519.0,Pershing Square North,518.0,E 39 St & 2 Ave,32723\n",
      "\n",
      "Playing new event on tree: {'tripduration': '316', 'starttime': 2019-01-01 00:04:43.736000, 'stoptime': 2019-01-01 00:10:00.608000, 'startstationid': '519.0', 'startstationname': 'Pershing Square North', 'endstationid': '518.0', 'endstationname': 'E 39 St & 2 Ave', 'bike_id': '32723'}, trying to find matches\n",
      "Playing new event. Event types listeners: {'CitiBikeTrip': [<tree.nodes.LeafNode.LeafNode object at 0x11882f830>, <tree.nodes.LeafNode.LeafNode object at 0x11943c3e0>]}\n",
      "SortedPatternMatchStorage.add() called Key: 2019-01-01 00:04:43.736000, length of partial matches: 1\n",
      "Current events in pattern match: [{'tripduration': '316', 'starttime': 2019-01-01 00:04:43.736000, 'stoptime': 2019-01-01 00:10:00.608000, 'startstationid': '519.0', 'startstationname': 'Pershing Square North', 'endstationid': '518.0', 'endstationname': 'E 39 St & 2 Ave', 'bike_id': '32723'}]\n",
      "UnsortedPatternMatchStorage.add() called! Total matches: 1\n",
      "Parsing raw data: 467,2019-01-01 00:16:22.9480,2019-01-01 00:24:10.5430,518.0,E 39 St & 2 Ave,492.0,W 33 St & 7 Ave,32723\n",
      "\n",
      "Playing new event on tree: {'tripduration': '467', 'starttime': 2019-01-01 00:16:22.948000, 'stoptime': 2019-01-01 00:24:10.543000, 'startstationid': '518.0', 'startstationname': 'E 39 St & 2 Ave', 'endstationid': '492.0', 'endstationname': 'W 33 St & 7 Ave', 'bike_id': '32723'}, trying to find matches\n",
      "Playing new event. Event types listeners: {'CitiBikeTrip': [<tree.nodes.LeafNode.LeafNode object at 0x11882f830>, <tree.nodes.LeafNode.LeafNode object at 0x11943c3e0>]}\n",
      "SortedPatternMatchStorage.add() called Key: 2019-01-01 00:16:22.948000, length of partial matches: 2\n",
      "Current events in pattern match: [{'tripduration': '467', 'starttime': 2019-01-01 00:16:22.948000, 'stoptime': 2019-01-01 00:24:10.543000, 'startstationid': '518.0', 'startstationname': 'E 39 St & 2 Ave', 'endstationid': '492.0', 'endstationname': 'W 33 St & 7 Ave', 'bike_id': '32723'}]\n",
      "UnsortedPatternMatchStorage.add() called! Total matches: 2\n",
      "Parsing raw data: 617,2019-01-01 00:21:25.8400,2019-01-01 00:31:42.9920,3159.0,W 67 St & Broadway,3142.0,1 Ave & E 62 St,24895\n",
      "\n",
      "Playing new event on tree: {'tripduration': '617', 'starttime': 2019-01-01 00:21:25.840000, 'stoptime': 2019-01-01 00:31:42.992000, 'startstationid': '3159.0', 'startstationname': 'W 67 St & Broadway', 'endstationid': '3142.0', 'endstationname': '1 Ave & E 62 St', 'bike_id': '24895'}, trying to find matches\n",
      "Playing new event. Event types listeners: {'CitiBikeTrip': [<tree.nodes.LeafNode.LeafNode object at 0x11882f830>, <tree.nodes.LeafNode.LeafNode object at 0x11943c3e0>]}\n",
      "SortedPatternMatchStorage.add() called Key: 2019-01-01 00:21:25.840000, length of partial matches: 3\n",
      "Current events in pattern match: [{'tripduration': '617', 'starttime': 2019-01-01 00:21:25.840000, 'stoptime': 2019-01-01 00:31:42.992000, 'startstationid': '3159.0', 'startstationname': 'W 67 St & Broadway', 'endstationid': '3142.0', 'endstationname': '1 Ave & E 62 St', 'bike_id': '24895'}]\n",
      "UnsortedPatternMatchStorage.add() called! Total matches: 3\n",
      "Parsing raw data: 537,2019-01-01 00:21:42.7480,2019-01-01 00:30:40.4410,3231.0,E 67 St & Park Ave,519.0,Pershing Square North,30089\n",
      "\n",
      "Playing new event on tree: {'tripduration': '537', 'starttime': 2019-01-01 00:21:42.748000, 'stoptime': 2019-01-01 00:30:40.441000, 'startstationid': '3231.0', 'startstationname': 'E 67 St & Park Ave', 'endstationid': '519.0', 'endstationname': 'Pershing Square North', 'bike_id': '30089'}, trying to find matches\n",
      "Playing new event. Event types listeners: {'CitiBikeTrip': [<tree.nodes.LeafNode.LeafNode object at 0x11882f830>, <tree.nodes.LeafNode.LeafNode object at 0x11943c3e0>]}\n",
      "SortedPatternMatchStorage.add() called Key: 2019-01-01 00:21:42.748000, length of partial matches: 4\n",
      "Current events in pattern match: [{'tripduration': '537', 'starttime': 2019-01-01 00:21:42.748000, 'stoptime': 2019-01-01 00:30:40.441000, 'startstationid': '3231.0', 'startstationname': 'E 67 St & Park Ave', 'endstationid': '519.0', 'endstationname': 'Pershing Square North', 'bike_id': '30089'}]\n",
      "UnsortedPatternMatchStorage.add() called! Total matches: 4\n",
      "Parsing raw data: 377,2019-01-01 00:23:26.4720,2019-01-01 00:29:43.6340,435.0,W 21 St & 6 Ave,509.0,9 Ave & W 22 St,32313\n",
      "\n",
      "Playing new event on tree: {'tripduration': '377', 'starttime': 2019-01-01 00:23:26.472000, 'stoptime': 2019-01-01 00:29:43.634000, 'startstationid': '435.0', 'startstationname': 'W 21 St & 6 Ave', 'endstationid': '509.0', 'endstationname': '9 Ave & W 22 St', 'bike_id': '32313'}, trying to find matches\n",
      "Playing new event. Event types listeners: {'CitiBikeTrip': [<tree.nodes.LeafNode.LeafNode object at 0x11882f830>, <tree.nodes.LeafNode.LeafNode object at 0x11943c3e0>]}\n",
      "SortedPatternMatchStorage.add() called Key: 2019-01-01 00:23:26.472000, length of partial matches: 5\n",
      "Current events in pattern match: [{'tripduration': '377', 'starttime': 2019-01-01 00:23:26.472000, 'stoptime': 2019-01-01 00:29:43.634000, 'startstationid': '435.0', 'startstationname': 'W 21 St & 6 Ave', 'endstationid': '509.0', 'endstationname': '9 Ave & W 22 St', 'bike_id': '32313'}]\n",
      "UnsortedPatternMatchStorage.add() called! Total matches: 5\n",
      "Parsing raw data: 643,2019-01-01 00:24:10.9070,2019-01-01 00:34:54.2950,492,W 44 St & 5 Ave,484.0,W 33 St & 7 Ave,32723\n",
      "\n",
      "Playing new event on tree: {'tripduration': '643', 'starttime': 2019-01-01 00:24:10.907000, 'stoptime': 2019-01-01 00:34:54.295000, 'startstationid': '492', 'startstationname': 'W 44 St & 5 Ave', 'endstationid': '484.0', 'endstationname': 'W 33 St & 7 Ave', 'bike_id': '32723'}, trying to find matches\n",
      "Playing new event. Event types listeners: {'CitiBikeTrip': [<tree.nodes.LeafNode.LeafNode object at 0x11882f830>, <tree.nodes.LeafNode.LeafNode object at 0x11943c3e0>]}\n",
      "SortedPatternMatchStorage.add() called Key: 2019-01-01 00:24:10.907000, length of partial matches: 6\n",
      "Current events in pattern match: [{'tripduration': '643', 'starttime': 2019-01-01 00:24:10.907000, 'stoptime': 2019-01-01 00:34:54.295000, 'startstationid': '492', 'startstationname': 'W 44 St & 5 Ave', 'endstationid': '484.0', 'endstationname': 'W 33 St & 7 Ave', 'bike_id': '32723'}]\n",
      "UnsortedPatternMatchStorage.add() called! Total matches: 6\n",
      "UnsortedPatternMatchStorage.add() called! Total matches: 7\n",
      "SortedPatternMatchStorage.add() called Key: 2019-01-01 00:24:10.907000, length of partial matches: 0\n",
      "Current events in pattern match: [{'tripduration': '643', 'starttime': 2019-01-01 00:24:10.907000, 'stoptime': 2019-01-01 00:34:54.295000, 'startstationid': '492', 'startstationname': 'W 44 St & 5 Ave', 'endstationid': '484.0', 'endstationname': 'W 33 St & 7 Ave', 'bike_id': '32723'}]\n",
      "UnsortedPatternMatchStorage.add() called! Total matches: 0\n",
      "Found match: {'tripduration': '467', 'starttime': 2019-01-01 00:16:22.948000, 'stoptime': 2019-01-01 00:24:10.543000, 'startstationid': '518.0', 'startstationname': 'E 39 St & 2 Ave', 'endstationid': '492.0', 'endstationname': 'W 33 St & 7 Ave', 'bike_id': '32723'}\n",
      "{'tripduration': '643', 'starttime': 2019-01-01 00:24:10.907000, 'stoptime': 2019-01-01 00:34:54.295000, 'startstationid': '492', 'startstationname': 'W 44 St & 5 Ave', 'endstationid': '484.0', 'endstationname': 'W 33 St & 7 Ave', 'bike_id': '32723'}\n",
      "\n",
      "\n",
      "Parsing raw data: 199,2019-01-01 00:24:55.4210,2019-01-01 00:28:14.7540,3302.0,Columbus Ave & W 103 St,3630.0,Frederick Douglass Blvd & W 115 St,35775\n",
      "\n",
      "Playing new event on tree: {'tripduration': '199', 'starttime': 2019-01-01 00:24:55.421000, 'stoptime': 2019-01-01 00:28:14.754000, 'startstationid': '3302.0', 'startstationname': 'Columbus Ave & W 103 St', 'endstationid': '3630.0', 'endstationname': 'Frederick Douglass Blvd & W 115 St', 'bike_id': '35775'}, trying to find matches\n",
      "Playing new event. Event types listeners: {'CitiBikeTrip': [<tree.nodes.LeafNode.LeafNode object at 0x11882f830>, <tree.nodes.LeafNode.LeafNode object at 0x11943c3e0>]}\n",
      "SortedPatternMatchStorage.add() called Key: 2019-01-01 00:24:55.421000, length of partial matches: 7\n",
      "Current events in pattern match: [{'tripduration': '199', 'starttime': 2019-01-01 00:24:55.421000, 'stoptime': 2019-01-01 00:28:14.754000, 'startstationid': '3302.0', 'startstationname': 'Columbus Ave & W 103 St', 'endstationid': '3630.0', 'endstationname': 'Frederick Douglass Blvd & W 115 St', 'bike_id': '35775'}]\n",
      "UnsortedPatternMatchStorage.add() called! Total matches: 8\n",
      "Parsing raw data: 813,2019-01-01 00:27:12.5070,2019-01-01 00:40:45.5940,3165.0,Central Park West & W 72 St,484.0,W 33 St & 7 Ave,32899\n",
      "\n",
      "Playing new event on tree: {'tripduration': '813', 'starttime': 2019-01-01 00:27:12.507000, 'stoptime': 2019-01-01 00:40:45.594000, 'startstationid': '3165.0', 'startstationname': 'Central Park West & W 72 St', 'endstationid': '484.0', 'endstationname': 'W 33 St & 7 Ave', 'bike_id': '32899'}, trying to find matches\n",
      "Playing new event. Event types listeners: {'CitiBikeTrip': [<tree.nodes.LeafNode.LeafNode object at 0x11882f830>, <tree.nodes.LeafNode.LeafNode object at 0x11943c3e0>]}\n",
      "SortedPatternMatchStorage.add() called Key: 2019-01-01 00:27:12.507000, length of partial matches: 8\n",
      "Current events in pattern match: [{'tripduration': '813', 'starttime': 2019-01-01 00:27:12.507000, 'stoptime': 2019-01-01 00:40:45.594000, 'startstationid': '3165.0', 'startstationname': 'Central Park West & W 72 St', 'endstationid': '484.0', 'endstationname': 'W 33 St & 7 Ave', 'bike_id': '32899'}]\n",
      "UnsortedPatternMatchStorage.add() called! Total matches: 9\n",
      "SortedPatternMatchStorage.add() called Key: 2019-01-01 00:27:12.507000, length of partial matches: 1\n",
      "Current events in pattern match: [{'tripduration': '813', 'starttime': 2019-01-01 00:27:12.507000, 'stoptime': 2019-01-01 00:40:45.594000, 'startstationid': '3165.0', 'startstationname': 'Central Park West & W 72 St', 'endstationid': '484.0', 'endstationname': 'W 33 St & 7 Ave', 'bike_id': '32899'}]\n"
     ]
    },
    {
     "data": {
      "text/plain": [
       "0.003932"
      ]
     },
     "execution_count": 6,
     "metadata": {},
     "output_type": "execute_result"
    }
   ],
   "source": [
    "cep.run(\n",
    "    events,\n",
    "    FileOutputStream(\"../test/demo/Matches\", \"output_citibike.txt\"),\n",
    "    CitiBikeDataFormatter(),\n",
    ")"
   ]
  }
 ],
 "metadata": {
  "kernelspec": {
   "display_name": "venv (3.12.2)",
   "language": "python",
   "name": "python3"
  },
  "language_info": {
   "codemirror_mode": {
    "name": "ipython",
    "version": 3
   },
   "file_extension": ".py",
   "mimetype": "text/x-python",
   "name": "python",
   "nbconvert_exporter": "python",
   "pygments_lexer": "ipython3",
   "version": "3.12.2"
  }
 },
 "nbformat": 4,
 "nbformat_minor": 5
}
