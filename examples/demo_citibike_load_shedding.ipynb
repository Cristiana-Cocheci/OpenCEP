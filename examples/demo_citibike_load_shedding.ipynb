{
 "cells": [
  {
   "cell_type": "code",
   "execution_count": 3,
   "id": "d9ea989d",
   "metadata": {},
   "outputs": [],
   "source": [
    "# Ensure project root (OpenCEP) is on sys.path for imports like `from base.Pattern import Pattern`\n",
    "import sys, os, pathlib\n",
    "\n",
    "nb_dir = (\n",
    "    pathlib.Path(__file__).parent if \"__file__\" in globals() else pathlib.Path.cwd()\n",
    ")\n",
    "project_root = str((nb_dir / \"..\").resolve())\n",
    "if project_root not in sys.path:\n",
    "    sys.path.insert(0, project_root)"
   ]
  },
  {
   "cell_type": "code",
   "execution_count": null,
   "id": "91d778a1",
   "metadata": {},
   "outputs": [],
   "source": [
    "from datetime import timedelta\n",
    "from CEP import CEP\n",
    "from base.Pattern import Pattern\n",
    "from base.PatternStructure import (\n",
    "    SeqOperator,\n",
    "    PrimitiveEventStructure,\n",
    "    KleeneClosureOperator,\n",
    ")\n",
    "from condition.CompositeCondition import AndCondition\n",
    "from condition.BaseRelationCondition import SmallerThanCondition\n",
    "from condition.Condition import Variable, SimpleCondition\n",
    "from condition.KCCondition import KCIndexCondition\n",
    "from stream.FileStream import FileInputStream, FileOutputStream\n",
    "from plugin.citibike.CitiBike import (\n",
    "    CitiBikeTripEventTypeClassifier,\n",
    "    CitiBikeDataFormatter,\n",
    ")\n",
    "import test\n",
    "from storage.TreeStorageParameters import TreeStorageParameters"
   ]
  },
  {
   "cell_type": "code",
   "execution_count": 5,
   "id": "95293e3c",
   "metadata": {},
   "outputs": [],
   "source": [
    "# Define the CitiBike hot paths pattern\n",
    "citibikeHotPathsPattern = Pattern(\n",
    "    SeqOperator(\n",
    "        KleeneClosureOperator(PrimitiveEventStructure(\"CitiBikeTrip\", \"a\")),\n",
    "        PrimitiveEventStructure(\"CitiBikeTrip\", \"b\"),\n",
    "    ),\n",
    "    AndCondition(\n",
    "        KCIndexCondition(\n",
    "            names={\"a\"},\n",
    "            getattr_func=lambda x: x[\"bike_id\"],\n",
    "            relation_op=lambda a1, a2: a1 == a2,\n",
    "            offset=-1,\n",
    "        ),\n",
    "        KCIndexCondition(\n",
    "            names={\"a\"},\n",
    "            getattr_func=lambda x: (\n",
    "                int(float(x[\"startstationid\"])),\n",
    "                int(float(x[\"endstationid\"])),\n",
    "            ),\n",
    "            relation_op=lambda a1, a2: a1[0] == a2[1],\n",
    "            offset=-1,\n",
    "        ),\n",
    "        SimpleCondition(\n",
    "            Variable(\"a\", lambda x: x[-1][\"bike_id\"]),\n",
    "            Variable(\"b\", lambda x: x[\"bike_id\"]),\n",
    "            relation_op=lambda a, b: a == b,\n",
    "        ),\n",
    "        SimpleCondition(\n",
    "            Variable(\"a\", lambda x: int(float(x[-1][\"endstationid\"]))),\n",
    "            Variable(\"b\", lambda x: int(float(x[\"startstationid\"]))),\n",
    "            relation_op=lambda a, b: a == b,\n",
    "        ),\n",
    "        SimpleCondition(\n",
    "            Variable(\"b\", lambda x: int(float(x[\"endstationid\"]))),\n",
    "            relation_op=lambda end_id: str(end_id) in {\"484\", \"3630\"},\n",
    "        ),\n",
    "    ),\n",
    "    timedelta(minutes=60),\n",
    ")"
   ]
  },
  {
   "cell_type": "code",
   "execution_count": 6,
   "id": "1659e9a8",
   "metadata": {},
   "outputs": [
    {
     "name": "stdout",
     "output_type": "stream",
     "text": [
      "Creating evaluation manager...\n",
      " - Parallel execution: None\n",
      " - Storage: TreeStorageParameters(sort_storage=True, attributes_priorities={}, clean_up_interval=10, prioritize_sorting_by_timestamp=True, enable_load_shedding=True, load_shedding_threshold=15, load_shedding_drop_rate=0.3, load_shedding_strategy=oldest)\n",
      " - Using ParallelExecutionModes.SEQUENTIAL execution mode\n",
      "!!! Using default evaluation mechanism parameters...\n",
      "!!! Creating tree-based evaluation mechanism...\n",
      "Tree calling create_storage_unit with storage_params: TreeStorageParameters(sort_storage=True, attributes_priorities={}, clean_up_interval=10, prioritize_sorting_by_timestamp=True, enable_load_shedding=True, load_shedding_threshold=15, load_shedding_drop_rate=0.3, load_shedding_strategy=oldest)\n",
      "InternalNode creating storage: sort=True, sorting_key=None\n",
      "UnsortedPatternMatchStorage created with storage_params: TreeStorageParameters(sort_storage=True, attributes_priorities={}, clean_up_interval=10, prioritize_sorting_by_timestamp=True, enable_load_shedding=True, load_shedding_threshold=15, load_shedding_drop_rate=0.3, load_shedding_strategy=oldest)\n",
      "InternalNode creating storage: sort=True, sorting_key=<function SeqNode._get_sequence_based_sorting_keys.<locals>.<lambda> at 0x0000018D4303CC20>\n",
      "SortedPatternMatchStorage created with storage_params: TreeStorageParameters(sort_storage=True, attributes_priorities={}, clean_up_interval=10, prioritize_sorting_by_timestamp=True, enable_load_shedding=True, load_shedding_threshold=15, load_shedding_drop_rate=0.3, load_shedding_strategy=oldest)\n",
      "LeafNode.create_storage_unit called with storage_params: TreeStorageParameters(sort_storage=True, attributes_priorities={}, clean_up_interval=10, prioritize_sorting_by_timestamp=True, enable_load_shedding=True, load_shedding_threshold=15, load_shedding_drop_rate=0.3, load_shedding_strategy=oldest)\n",
      "LeafNode creating SortedPatternMatchStorage with storage_params: TreeStorageParameters(sort_storage=True, attributes_priorities={}, clean_up_interval=10, prioritize_sorting_by_timestamp=True, enable_load_shedding=True, load_shedding_threshold=15, load_shedding_drop_rate=0.3, load_shedding_strategy=oldest)\n",
      "SortedPatternMatchStorage created with storage_params: TreeStorageParameters(sort_storage=True, attributes_priorities={}, clean_up_interval=10, prioritize_sorting_by_timestamp=True, enable_load_shedding=True, load_shedding_threshold=15, load_shedding_drop_rate=0.3, load_shedding_strategy=oldest)\n",
      "LeafNode.create_storage_unit called with storage_params: TreeStorageParameters(sort_storage=True, attributes_priorities={}, clean_up_interval=10, prioritize_sorting_by_timestamp=True, enable_load_shedding=True, load_shedding_threshold=15, load_shedding_drop_rate=0.3, load_shedding_strategy=oldest)\n",
      "LeafNode creating SortedPatternMatchStorage with storage_params: TreeStorageParameters(sort_storage=True, attributes_priorities={}, clean_up_interval=10, prioritize_sorting_by_timestamp=True, enable_load_shedding=True, load_shedding_threshold=15, load_shedding_drop_rate=0.3, load_shedding_strategy=oldest)\n",
      "SortedPatternMatchStorage created with storage_params: TreeStorageParameters(sort_storage=True, attributes_priorities={}, clean_up_interval=10, prioritize_sorting_by_timestamp=True, enable_load_shedding=True, load_shedding_threshold=15, load_shedding_drop_rate=0.3, load_shedding_strategy=oldest)\n",
      "Initialized CEP with the following parameters:\n",
      " - Patterns: [\n",
      "Pattern structure: SEQ([(CitiBikeTrip a)+, CitiBikeTrip b])\n",
      "Condition: KCIndex offset=-1 [a] AND KCIndex offset=-1 [a] AND [a, b] AND [a, b] AND [b]\n",
      "Time window: 1:00:00\n",
      "\n",
      "]\n",
      " - Evaluation Mechanism: None\n",
      " - Parallel Execution: None\n",
      " - Pattern Preprocessing: None\n",
      " - Storage: TreeStorageParameters(sort_storage=True, attributes_priorities={}, clean_up_interval=10, prioritize_sorting_by_timestamp=True, enable_load_shedding=True, load_shedding_threshold=15, load_shedding_drop_rate=0.3, load_shedding_strategy=oldest)\n"
     ]
    },
    {
     "ename": "NameError",
     "evalue": "name 'time' is not defined",
     "output_type": "error",
     "traceback": [
      "\u001b[1;31m---------------------------------------------------------------------------\u001b[0m",
      "\u001b[1;31mNameError\u001b[0m                                 Traceback (most recent call last)",
      "Cell \u001b[1;32mIn[6], line 17\u001b[0m\n\u001b[0;32m     10\u001b[0m cep_with_load_shedding \u001b[38;5;241m=\u001b[39m CEP(\n\u001b[0;32m     11\u001b[0m     patterns\u001b[38;5;241m=\u001b[39m[citibikeHotPathsPattern],  \u001b[38;5;66;03m# Your pattern(s)\u001b[39;00m\n\u001b[0;32m     12\u001b[0m     storage_params\u001b[38;5;241m=\u001b[39mload_shedding_params,  \u001b[38;5;66;03m# Storage configuration with load shedding\u001b[39;00m\n\u001b[0;32m     13\u001b[0m )\n\u001b[0;32m     15\u001b[0m events \u001b[38;5;241m=\u001b[39m FileInputStream(\u001b[38;5;124m\"\u001b[39m\u001b[38;5;124m../test/EventFiles/citibike-withbikeid-smaller.txt\u001b[39m\u001b[38;5;124m\"\u001b[39m)\n\u001b[1;32m---> 17\u001b[0m start_time \u001b[38;5;241m=\u001b[39m \u001b[43mtime\u001b[49m\u001b[38;5;241m.\u001b[39mtime()\n\u001b[0;32m     19\u001b[0m cep_with_load_shedding\u001b[38;5;241m.\u001b[39mrun(\n\u001b[0;32m     20\u001b[0m     events,\n\u001b[0;32m     21\u001b[0m     FileOutputStream(\u001b[38;5;124m\"\u001b[39m\u001b[38;5;124m../test/demo/Matches\u001b[39m\u001b[38;5;124m\"\u001b[39m, \u001b[38;5;124m\"\u001b[39m\u001b[38;5;124moutput_citibike_load_shedding.txt\u001b[39m\u001b[38;5;124m\"\u001b[39m),\n\u001b[0;32m     22\u001b[0m     CitiBikeDataFormatter(),\n\u001b[0;32m     23\u001b[0m )\n\u001b[0;32m     25\u001b[0m execution_time \u001b[38;5;241m=\u001b[39m time\u001b[38;5;241m.\u001b[39mtime() \u001b[38;5;241m-\u001b[39m start_time\n",
      "\u001b[1;31mNameError\u001b[0m: name 'time' is not defined"
     ]
    }
   ],
   "source": [
    "load_shedding_params = TreeStorageParameters(\n",
    "    sort_storage=True,\n",
    "    enable_load_shedding=True,\n",
    "    load_shedding_threshold=15,\n",
    "    load_shedding_drop_rate=0.3,\n",
    "    load_shedding_strategy=\"oldest\",\n",
    "    clean_up_interval=10,\n",
    ")\n",
    "\n",
    "cep_with_load_shedding = CEP(\n",
    "    patterns=[citibikeHotPathsPattern],  # Your pattern(s)\n",
    "    storage_params=load_shedding_params,  # Storage configuration with load shedding\n",
    ")\n",
    "\n",
    "events = FileInputStream(\"../test/EventFiles/citibike-withbikeid-smaller.txt\")\n",
    "\n",
    "start_time = time.time()\n",
    "\n",
    "cep_with_load_shedding.run(\n",
    "    events,\n",
    "    FileOutputStream(\"../test/demo/Matches\", \"output_citibike_load_shedding.txt\"),\n",
    "    CitiBikeDataFormatter(),\n",
    ")\n",
    "\n",
    "execution_time = time.time() - start_time"
   ]
  }
 ],
 "metadata": {
  "kernelspec": {
   "display_name": "Python 3",
   "language": "python",
   "name": "python3"
  },
  "language_info": {
   "codemirror_mode": {
    "name": "ipython",
    "version": 3
   },
   "file_extension": ".py",
   "mimetype": "text/x-python",
   "name": "python",
   "nbconvert_exporter": "python",
   "pygments_lexer": "ipython3",
   "version": "3.12.3"
  }
 },
 "nbformat": 4,
 "nbformat_minor": 5
}
