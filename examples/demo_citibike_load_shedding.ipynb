{
 "cells": [
  {
   "cell_type": "code",
   "execution_count": 8,
   "id": "d9ea989d",
   "metadata": {},
   "outputs": [],
   "source": [
    "# Ensure project root (OpenCEP) is on sys.path for imports like `from base.Pattern import Pattern`\n",
    "import sys, os, pathlib\n",
    "\n",
    "nb_dir = (\n",
    "    pathlib.Path(__file__).parent if \"__file__\" in globals() else pathlib.Path.cwd()\n",
    ")\n",
    "project_root = str((nb_dir / \"..\").resolve())\n",
    "if project_root not in sys.path:\n",
    "    sys.path.insert(0, project_root)"
   ]
  },
  {
   "cell_type": "code",
   "execution_count": 9,
   "id": "91d778a1",
   "metadata": {},
   "outputs": [],
   "source": [
    "from datetime import timedelta\n",
    "from CEP import CEP\n",
    "from base.Pattern import Pattern\n",
    "from base.PatternStructure import (\n",
    "    SeqOperator,\n",
    "    PrimitiveEventStructure,\n",
    "    KleeneClosureOperator,\n",
    ")\n",
    "from condition.CompositeCondition import AndCondition\n",
    "from condition.BaseRelationCondition import SmallerThanCondition\n",
    "from condition.Condition import Variable, SimpleCondition\n",
    "from condition.KCCondition import KCIndexCondition\n",
    "from stream.FileStream import FileInputStream, FileOutputStream\n",
    "from plugin.citibike.CitiBike import (\n",
    "    CitiBikeTripEventTypeClassifier,\n",
    "    CitiBikeDataFormatter,\n",
    ")\n",
    "import test\n",
    "from storage.TreeStorageParameters import TreeStorageParameters"
   ]
  },
  {
   "cell_type": "code",
   "execution_count": 10,
   "id": "95293e3c",
   "metadata": {},
   "outputs": [],
   "source": [
    "# Define the CitiBike hot paths pattern\n",
    "citibikeHotPathsPattern = Pattern(\n",
    "    SeqOperator(\n",
    "        KleeneClosureOperator(PrimitiveEventStructure(\"CitiBikeTrip\", \"a\")),\n",
    "        PrimitiveEventStructure(\"CitiBikeTrip\", \"b\"),\n",
    "    ),\n",
    "    AndCondition(\n",
    "        KCIndexCondition(\n",
    "            names={\"a\"},\n",
    "            getattr_func=lambda x: x[\"bike_id\"],\n",
    "            relation_op=lambda a1, a2: a1 == a2,\n",
    "            offset=-1,\n",
    "        ),\n",
    "        KCIndexCondition(\n",
    "            names={\"a\"},\n",
    "            getattr_func=lambda x: (\n",
    "                int(float(x[\"startstationid\"])),\n",
    "                int(float(x[\"endstationid\"])),\n",
    "            ),\n",
    "            relation_op=lambda a1, a2: a1[0] == a2[1],\n",
    "            offset=-1,\n",
    "        ),\n",
    "        SimpleCondition(\n",
    "            Variable(\"a\", lambda x: x[-1][\"bike_id\"]),\n",
    "            Variable(\"b\", lambda x: x[\"bike_id\"]),\n",
    "            relation_op=lambda a, b: a == b,\n",
    "        ),\n",
    "        SimpleCondition(\n",
    "            Variable(\"a\", lambda x: int(float(x[-1][\"endstationid\"]))),\n",
    "            Variable(\"b\", lambda x: int(float(x[\"startstationid\"]))),\n",
    "            relation_op=lambda a, b: a == b,\n",
    "        ),\n",
    "        SimpleCondition(\n",
    "            Variable(\"b\", lambda x: int(float(x[\"endstationid\"]))),\n",
    "            relation_op=lambda end_id: str(end_id) in {\"484\", \"3630\"},\n",
    "        ),\n",
    "    ),\n",
    "    timedelta(minutes=60),\n",
    ")"
   ]
  },
  {
   "cell_type": "code",
   "execution_count": 11,
   "id": "1659e9a8",
   "metadata": {},
   "outputs": [
    {
     "ename": "TypeError",
     "evalue": "EvaluationManagerFactory.create_evaluation_manager() missing 1 required positional argument: 'storage_params'",
     "output_type": "error",
     "traceback": [
      "\u001b[31m---------------------------------------------------------------------------\u001b[39m",
      "\u001b[31mTypeError\u001b[39m                                 Traceback (most recent call last)",
      "\u001b[36mCell\u001b[39m\u001b[36m \u001b[39m\u001b[32mIn[11]\u001b[39m\u001b[32m, line 10\u001b[39m\n\u001b[32m      1\u001b[39m load_shedding_params = TreeStorageParameters(\n\u001b[32m      2\u001b[39m     sort_storage=\u001b[38;5;28;01mTrue\u001b[39;00m,                   \n\u001b[32m      3\u001b[39m     enable_load_shedding=\u001b[38;5;28;01mTrue\u001b[39;00m,            \n\u001b[32m   (...)\u001b[39m\u001b[32m      7\u001b[39m     clean_up_interval=\u001b[32m10\u001b[39m                 \n\u001b[32m      8\u001b[39m )\n\u001b[32m---> \u001b[39m\u001b[32m10\u001b[39m cep_with_load_shedding = \u001b[43mCEP\u001b[49m\u001b[43m(\u001b[49m\n\u001b[32m     11\u001b[39m \u001b[43m    \u001b[49m\u001b[43mpatterns\u001b[49m\u001b[43m=\u001b[49m\u001b[43m[\u001b[49m\u001b[43mcitibikeHotPathsPattern\u001b[49m\u001b[43m]\u001b[49m\u001b[43m,\u001b[49m\u001b[43m   \u001b[49m\u001b[38;5;66;43;03m# Your pattern(s)  \u001b[39;49;00m\n\u001b[32m     12\u001b[39m \u001b[43m    \u001b[49m\u001b[43mstorage_params\u001b[49m\u001b[43m=\u001b[49m\u001b[43mload_shedding_params\u001b[49m\u001b[43m   \u001b[49m\u001b[38;5;66;43;03m# Storage configuration with load shedding\u001b[39;49;00m\n\u001b[32m     13\u001b[39m \u001b[43m)\u001b[49m\n\u001b[32m     15\u001b[39m events = FileInputStream(\u001b[33m\"\u001b[39m\u001b[33m../test/EventFiles/citibike-withbikeid-smaller.txt\u001b[39m\u001b[33m\"\u001b[39m)\n\u001b[32m     17\u001b[39m start_time = time.time()\n",
      "\u001b[36mFile \u001b[39m\u001b[32m~/Desktop/aalto_master/SSDM/OpenCEP/OpenCEP/CEP.py:32\u001b[39m, in \u001b[36mCEP.__init__\u001b[39m\u001b[34m(self, patterns, eval_mechanism_params, parallel_execution_params, pattern_preprocessing_params, storage_params)\u001b[39m\n\u001b[32m     28\u001b[39m \u001b[38;5;250m\u001b[39m\u001b[33;03m\"\"\"\u001b[39;00m\n\u001b[32m     29\u001b[39m \u001b[33;03mConstructor of the class.\u001b[39;00m\n\u001b[32m     30\u001b[39m \u001b[33;03m\"\"\"\u001b[39;00m\n\u001b[32m     31\u001b[39m actual_patterns = PatternPreprocessor(pattern_preprocessing_params).transform_patterns(patterns)\n\u001b[32m---> \u001b[39m\u001b[32m32\u001b[39m \u001b[38;5;28mself\u001b[39m.__evaluation_manager = \u001b[43mEvaluationManagerFactory\u001b[49m\u001b[43m.\u001b[49m\u001b[43mcreate_evaluation_manager\u001b[49m\u001b[43m(\u001b[49m\u001b[43mactual_patterns\u001b[49m\u001b[43m,\u001b[49m\n\u001b[32m     33\u001b[39m \u001b[43m                                                                               \u001b[49m\u001b[43meval_mechanism_params\u001b[49m\u001b[43m,\u001b[49m\n\u001b[32m     34\u001b[39m \u001b[43m                                                                               \u001b[49m\u001b[43mparallel_execution_params\u001b[49m\u001b[43m)\u001b[49m\n",
      "\u001b[31mTypeError\u001b[39m: EvaluationManagerFactory.create_evaluation_manager() missing 1 required positional argument: 'storage_params'"
     ]
    }
   ],
   "source": [
    "load_shedding_params = TreeStorageParameters(\n",
    "    sort_storage=True,                   \n",
    "    enable_load_shedding=True,            \n",
    "    load_shedding_threshold=15,         \n",
    "    load_shedding_drop_rate=0.3,         \n",
    "    load_shedding_strategy='oldest',     \n",
    "    clean_up_interval=10                 \n",
    ")\n",
    "\n",
    "cep_with_load_shedding = CEP(\n",
    "    patterns=[citibikeHotPathsPattern],   # Your pattern(s)  \n",
    "    storage_params=load_shedding_params   # Storage configuration with load shedding\n",
    ")\n",
    "\n",
    "events = FileInputStream(\"../test/EventFiles/citibike-withbikeid-smaller.txt\")\n",
    "\n",
    "start_time = time.time()\n",
    "\n",
    "cep_with_load_shedding.run(\n",
    "    events,\n",
    "    FileOutputStream(\"../test/demo/Matches\", \"output_citibike_load_shedding.txt\"),\n",
    "    CitiBikeDataFormatter(),\n",
    ")\n",
    "\n",
    "execution_time = time.time() - start_time"
   ]
  }
 ],
 "metadata": {
  "kernelspec": {
   "display_name": "venv (3.12.2)",
   "language": "python",
   "name": "python3"
  },
  "language_info": {
   "codemirror_mode": {
    "name": "ipython",
    "version": 3
   },
   "file_extension": ".py",
   "mimetype": "text/x-python",
   "name": "python",
   "nbconvert_exporter": "python",
   "pygments_lexer": "ipython3",
   "version": "3.12.2"
  }
 },
 "nbformat": 4,
 "nbformat_minor": 5
}
