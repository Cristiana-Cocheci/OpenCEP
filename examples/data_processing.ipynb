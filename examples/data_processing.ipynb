{
 "cells": [
  {
   "cell_type": "code",
   "execution_count": 5,
   "id": "44ab51ea",
   "metadata": {},
   "outputs": [],
   "source": [
    "import pandas as pd"
   ]
  },
  {
   "cell_type": "code",
   "execution_count": 6,
   "id": "d5c72b1c",
   "metadata": {},
   "outputs": [],
   "source": [
    "df = pd.read_csv(\"../test/EventFiles/citibike-withbikeid.csv\")"
   ]
  },
  {
   "cell_type": "code",
   "execution_count": 7,
   "id": "b578d6b5",
   "metadata": {},
   "outputs": [],
   "source": [
    "df.drop(\n",
    "    columns=[\n",
    "        \"start station latitude\",\n",
    "        \"start station longitude\",\n",
    "        \"end station latitude\",\n",
    "        \"end station longitude\",\n",
    "        \"usertype\",\n",
    "        \"birth year\",\n",
    "        \"gender\",\n",
    "    ],\n",
    "    inplace=True,\n",
    ")"
   ]
  },
  {
   "cell_type": "code",
   "execution_count": 8,
   "id": "fbca8f6a",
   "metadata": {},
   "outputs": [],
   "source": [
    "df.to_csv(\"../test/EventFiles/citibike-withbikeid.csv\", index=False)"
   ]
  }
 ],
 "metadata": {
  "kernelspec": {
   "display_name": "Python 3",
   "language": "python",
   "name": "python3"
  },
  "language_info": {
   "codemirror_mode": {
    "name": "ipython",
    "version": 3
   },
   "file_extension": ".py",
   "mimetype": "text/x-python",
   "name": "python",
   "nbconvert_exporter": "python",
   "pygments_lexer": "ipython3",
   "version": "3.12.3"
  }
 },
 "nbformat": 4,
 "nbformat_minor": 5
}
